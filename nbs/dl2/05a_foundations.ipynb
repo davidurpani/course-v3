{
  "nbformat": 4,
  "nbformat_minor": 0,
  "metadata": {
    "kernelspec": {
      "display_name": "Python 3",
      "language": "python",
      "name": "python3"
    },
    "colab": {
      "name": "05a_foundations.ipynb",
      "provenance": [],
      "include_colab_link": true
    },
    "widgets": {
      "application/vnd.jupyter.widget-state+json": {
        "fc7caacff9ca4310ba5d0fa3be1494c9": {
          "model_module": "@jupyter-widgets/controls",
          "model_name": "ButtonModel",
          "state": {
            "_view_name": "ButtonView",
            "style": "IPY_MODEL_5e57e890870140b7a06829a83f27a305",
            "_dom_classes": [],
            "description": "Click me",
            "_model_name": "ButtonModel",
            "button_style": "",
            "_view_module": "@jupyter-widgets/controls",
            "_model_module_version": "1.5.0",
            "tooltip": "",
            "_view_count": null,
            "disabled": false,
            "_view_module_version": "1.5.0",
            "layout": "IPY_MODEL_91075d309f9f40f08e98545d851edff6",
            "_model_module": "@jupyter-widgets/controls",
            "icon": ""
          }
        },
        "5e57e890870140b7a06829a83f27a305": {
          "model_module": "@jupyter-widgets/controls",
          "model_name": "ButtonStyleModel",
          "state": {
            "_view_name": "StyleView",
            "_model_name": "ButtonStyleModel",
            "_view_module": "@jupyter-widgets/base",
            "_model_module_version": "1.5.0",
            "_view_count": null,
            "button_color": null,
            "font_weight": "",
            "_view_module_version": "1.2.0",
            "_model_module": "@jupyter-widgets/controls"
          }
        },
        "91075d309f9f40f08e98545d851edff6": {
          "model_module": "@jupyter-widgets/base",
          "model_name": "LayoutModel",
          "state": {
            "_view_name": "LayoutView",
            "grid_template_rows": null,
            "right": null,
            "justify_content": null,
            "_view_module": "@jupyter-widgets/base",
            "overflow": null,
            "_model_module_version": "1.2.0",
            "_view_count": null,
            "flex_flow": null,
            "width": null,
            "min_width": null,
            "border": null,
            "align_items": null,
            "bottom": null,
            "_model_module": "@jupyter-widgets/base",
            "top": null,
            "grid_column": null,
            "overflow_y": null,
            "overflow_x": null,
            "grid_auto_flow": null,
            "grid_area": null,
            "grid_template_columns": null,
            "flex": null,
            "_model_name": "LayoutModel",
            "justify_items": null,
            "grid_row": null,
            "max_height": null,
            "align_content": null,
            "visibility": null,
            "align_self": null,
            "height": null,
            "min_height": null,
            "padding": null,
            "grid_auto_rows": null,
            "grid_gap": null,
            "max_width": null,
            "order": null,
            "_view_module_version": "1.2.0",
            "grid_template_areas": null,
            "object_position": null,
            "object_fit": null,
            "grid_auto_columns": null,
            "margin": null,
            "display": null,
            "left": null
          }
        }
      }
    }
  },
  "cells": [
    {
      "cell_type": "markdown",
      "metadata": {
        "id": "view-in-github",
        "colab_type": "text"
      },
      "source": [
        "<a href=\"https://colab.research.google.com/github/davidurpani/course-v3/blob/master/nbs/dl2/05a_foundations.ipynb\" target=\"_parent\"><img src=\"https://colab.research.google.com/assets/colab-badge.svg\" alt=\"Open In Colab\"/></a>"
      ]
    },
    {
      "cell_type": "code",
      "metadata": {
        "id": "VaEOoRufe426",
        "colab_type": "code",
        "colab": {
          "base_uri": "https://localhost:8080/",
          "height": 34
        },
        "outputId": "a64f52e6-450b-441b-b9fa-d7abcfa6da75"
      },
      "source": [
        "from google.colab import drive\n",
        "drive.mount('/gdrive')"
      ],
      "execution_count": 19,
      "outputs": [
        {
          "output_type": "stream",
          "text": [
            "Drive already mounted at /gdrive; to attempt to forcibly remount, call drive.mount(\"/gdrive\", force_remount=True).\n"
          ],
          "name": "stdout"
        }
      ]
    },
    {
      "cell_type": "code",
      "metadata": {
        "id": "FapuZMWhfIkb",
        "colab_type": "code",
        "colab": {
          "base_uri": "https://localhost:8080/",
          "height": 34
        },
        "outputId": "225944aa-681d-4475-804a-510a70f67995"
      },
      "source": [
        "cd /gdrive/My Drive/course-v3/nbs/dl2"
      ],
      "execution_count": 20,
      "outputs": [
        {
          "output_type": "stream",
          "text": [
            "/gdrive/My Drive/course-v3/nbs/dl2\n"
          ],
          "name": "stdout"
        }
      ]
    },
    {
      "cell_type": "code",
      "metadata": {
        "id": "VKhH_l5Xew2T",
        "colab_type": "code",
        "colab": {
          "base_uri": "https://localhost:8080/",
          "height": 50
        },
        "outputId": "b8a66885-c3c3-4c53-d3af-b694aedf5690"
      },
      "source": [
        "%load_ext autoreload\n",
        "%autoreload 2\n",
        "\n",
        "%matplotlib inline"
      ],
      "execution_count": 21,
      "outputs": [
        {
          "output_type": "stream",
          "text": [
            "The autoreload extension is already loaded. To reload it, use:\n",
            "  %reload_ext autoreload\n"
          ],
          "name": "stdout"
        }
      ]
    },
    {
      "cell_type": "code",
      "metadata": {
        "id": "RikH3P2dew2Z",
        "colab_type": "code",
        "colab": {}
      },
      "source": [
        "import torch\n",
        "import matplotlib.pyplot as plt"
      ],
      "execution_count": 22,
      "outputs": []
    },
    {
      "cell_type": "markdown",
      "metadata": {
        "id": "1weW-XHjew2d",
        "colab_type": "text"
      },
      "source": [
        "[Jump_to opening comments and overview of lesson 10](https://course.fast.ai/videos/?lesson=10&t=108)"
      ]
    },
    {
      "cell_type": "markdown",
      "metadata": {
        "id": "aji-DWBmew2e",
        "colab_type": "text"
      },
      "source": [
        "## Callbacks"
      ]
    },
    {
      "cell_type": "markdown",
      "metadata": {
        "id": "wdi-axM4ew2f",
        "colab_type": "text"
      },
      "source": [
        "### Callbacks as GUI events"
      ]
    },
    {
      "cell_type": "markdown",
      "metadata": {
        "id": "14ucGFs_ew2g",
        "colab_type": "text"
      },
      "source": [
        "[Jump_to lesson 10 video](https://course.fast.ai/videos/?lesson=10&t=432)"
      ]
    },
    {
      "cell_type": "code",
      "metadata": {
        "id": "Q6kvBWb9ew2h",
        "colab_type": "code",
        "colab": {}
      },
      "source": [
        "import ipywidgets as widgets"
      ],
      "execution_count": 23,
      "outputs": []
    },
    {
      "cell_type": "code",
      "metadata": {
        "id": "gyyA8lMsew2l",
        "colab_type": "code",
        "colab": {}
      },
      "source": [
        "def f(o): print('hi')"
      ],
      "execution_count": 24,
      "outputs": []
    },
    {
      "cell_type": "markdown",
      "metadata": {
        "id": "_LJ-9aemew2q",
        "colab_type": "text"
      },
      "source": [
        "From the [ipywidget docs](https://ipywidgets.readthedocs.io/en/stable/examples/Widget%20Events.html):\n",
        "\n",
        "- *the button widget is used to handle mouse clicks. The on_click method of the Button can be used to register function to be called when the button is clicked*"
      ]
    },
    {
      "cell_type": "code",
      "metadata": {
        "id": "aO7_EOnbew2r",
        "colab_type": "code",
        "colab": {}
      },
      "source": [
        "w = widgets.Button(description='Click me')"
      ],
      "execution_count": 25,
      "outputs": []
    },
    {
      "cell_type": "code",
      "metadata": {
        "id": "dFpXMhyaew2v",
        "colab_type": "code",
        "colab": {
          "base_uri": "https://localhost:8080/",
          "height": 0,
          "referenced_widgets": [
            "fc7caacff9ca4310ba5d0fa3be1494c9",
            "5e57e890870140b7a06829a83f27a305",
            "91075d309f9f40f08e98545d851edff6"
          ]
        },
        "outputId": "1a5321ea-3b50-4b07-ef4a-2f60b8e76927"
      },
      "source": [
        "w"
      ],
      "execution_count": 26,
      "outputs": [
        {
          "output_type": "display_data",
          "data": {
            "application/vnd.jupyter.widget-view+json": {
              "model_id": "fc7caacff9ca4310ba5d0fa3be1494c9",
              "version_minor": 0,
              "version_major": 2
            },
            "text/plain": [
              "Button(description='Click me', style=ButtonStyle())"
            ]
          },
          "metadata": {
            "tags": []
          }
        }
      ]
    },
    {
      "cell_type": "code",
      "metadata": {
        "id": "dr3BUbfqew21",
        "colab_type": "code",
        "colab": {}
      },
      "source": [
        "w.on_click(f)"
      ],
      "execution_count": 27,
      "outputs": []
    },
    {
      "cell_type": "markdown",
      "metadata": {
        "id": "H-A7_hL4ew26",
        "colab_type": "text"
      },
      "source": [
        "*NB: When callbacks are used in this way they are often called \"events\".*\n",
        "\n",
        "Did you know what you can create interactive apps in Jupyter with these widgets? Here's an example from [plotly](https://plot.ly/python/widget-app/):\n",
        "\n",
        "![](https://cloud.githubusercontent.com/assets/12302455/16637308/4e476280-43ac-11e6-9fd3-ada2c9506ee1.gif)"
      ]
    },
    {
      "cell_type": "markdown",
      "metadata": {
        "id": "ndRlp46Uew26",
        "colab_type": "text"
      },
      "source": [
        "### Creating your own callback"
      ]
    },
    {
      "cell_type": "markdown",
      "metadata": {
        "id": "d8owJ102ew27",
        "colab_type": "text"
      },
      "source": [
        "[Jump_to lesson 10 video](https://course.fast.ai/videos/?lesson=10&t=680)"
      ]
    },
    {
      "cell_type": "code",
      "metadata": {
        "id": "ZQYDTuXjew28",
        "colab_type": "code",
        "colab": {}
      },
      "source": [
        "from time import sleep"
      ],
      "execution_count": 28,
      "outputs": []
    },
    {
      "cell_type": "code",
      "metadata": {
        "id": "f3r12F9Eew3A",
        "colab_type": "code",
        "colab": {}
      },
      "source": [
        "def slow_calculation():\n",
        "    res = 0\n",
        "    for i in range(5):\n",
        "        res += i*i\n",
        "        sleep(1)\n",
        "    return res"
      ],
      "execution_count": 29,
      "outputs": []
    },
    {
      "cell_type": "code",
      "metadata": {
        "id": "LGF9__Jnew3E",
        "colab_type": "code",
        "colab": {
          "base_uri": "https://localhost:8080/",
          "height": 0
        },
        "outputId": "dd8197b4-d1b5-4d0f-df13-ccd179679a7d"
      },
      "source": [
        "slow_calculation()"
      ],
      "execution_count": 30,
      "outputs": [
        {
          "output_type": "execute_result",
          "data": {
            "text/plain": [
              "30"
            ]
          },
          "metadata": {
            "tags": []
          },
          "execution_count": 30
        }
      ]
    },
    {
      "cell_type": "code",
      "metadata": {
        "id": "NnyxlO12ew3I",
        "colab_type": "code",
        "colab": {}
      },
      "source": [
        "def slow_calculation(cb=None):\n",
        "    res = 0\n",
        "    for i in range(5):\n",
        "        res += i*i\n",
        "        sleep(1)\n",
        "        if cb: cb(i)\n",
        "    return res"
      ],
      "execution_count": 31,
      "outputs": []
    },
    {
      "cell_type": "code",
      "metadata": {
        "id": "pdph4d3Pew3P",
        "colab_type": "code",
        "colab": {}
      },
      "source": [
        "def show_progress(epoch):\n",
        "    print(f\"Awesome! We've finished epoch {epoch}!\")"
      ],
      "execution_count": 32,
      "outputs": []
    },
    {
      "cell_type": "code",
      "metadata": {
        "id": "yPQmmzQZew3S",
        "colab_type": "code",
        "colab": {
          "base_uri": "https://localhost:8080/",
          "height": 0
        },
        "outputId": "59f56f9a-4b22-4208-d5e2-f07c0d5482e3"
      },
      "source": [
        "slow_calculation(show_progress)"
      ],
      "execution_count": 33,
      "outputs": [
        {
          "output_type": "stream",
          "text": [
            "Awesome! We've finished epoch 0!\n",
            "Awesome! We've finished epoch 1!\n",
            "Awesome! We've finished epoch 2!\n",
            "Awesome! We've finished epoch 3!\n",
            "Awesome! We've finished epoch 4!\n"
          ],
          "name": "stdout"
        },
        {
          "output_type": "execute_result",
          "data": {
            "text/plain": [
              "30"
            ]
          },
          "metadata": {
            "tags": []
          },
          "execution_count": 33
        }
      ]
    },
    {
      "cell_type": "markdown",
      "metadata": {
        "id": "UEDz6TKlew3V",
        "colab_type": "text"
      },
      "source": [
        "### Lambdas and partials"
      ]
    },
    {
      "cell_type": "markdown",
      "metadata": {
        "id": "oIRU0XQxew3V",
        "colab_type": "text"
      },
      "source": [
        "[Jump_to lesson 10 video](https://course.fast.ai/videos/?lesson=10&t=811)"
      ]
    },
    {
      "cell_type": "code",
      "metadata": {
        "id": "0wchy3z-ew3W",
        "colab_type": "code",
        "colab": {
          "base_uri": "https://localhost:8080/",
          "height": 0
        },
        "outputId": "a03cda59-d09d-4fab-f7b4-81c84987e7af"
      },
      "source": [
        "slow_calculation(lambda o: print(f\"Awesome! We've finished epoch {o}!\"))"
      ],
      "execution_count": 34,
      "outputs": [
        {
          "output_type": "stream",
          "text": [
            "Awesome! We've finished epoch 0!\n",
            "Awesome! We've finished epoch 1!\n",
            "Awesome! We've finished epoch 2!\n",
            "Awesome! We've finished epoch 3!\n",
            "Awesome! We've finished epoch 4!\n"
          ],
          "name": "stdout"
        },
        {
          "output_type": "execute_result",
          "data": {
            "text/plain": [
              "30"
            ]
          },
          "metadata": {
            "tags": []
          },
          "execution_count": 34
        }
      ]
    },
    {
      "cell_type": "code",
      "metadata": {
        "id": "46zgOKOqew3a",
        "colab_type": "code",
        "colab": {}
      },
      "source": [
        "def show_progress(exclamation, epoch):\n",
        "    print(f\"{exclamation}! We've finished epoch {epoch}!\")"
      ],
      "execution_count": 35,
      "outputs": []
    },
    {
      "cell_type": "code",
      "metadata": {
        "id": "6YR-8_SXew3c",
        "colab_type": "code",
        "colab": {
          "base_uri": "https://localhost:8080/",
          "height": 0
        },
        "outputId": "8c38de8f-93a8-48ab-9288-4c53af5adb8b"
      },
      "source": [
        "slow_calculation(lambda o: show_progress(\"OK I guess\", o))"
      ],
      "execution_count": 36,
      "outputs": [
        {
          "output_type": "stream",
          "text": [
            "OK I guess! We've finished epoch 0!\n",
            "OK I guess! We've finished epoch 1!\n",
            "OK I guess! We've finished epoch 2!\n",
            "OK I guess! We've finished epoch 3!\n",
            "OK I guess! We've finished epoch 4!\n"
          ],
          "name": "stdout"
        },
        {
          "output_type": "execute_result",
          "data": {
            "text/plain": [
              "30"
            ]
          },
          "metadata": {
            "tags": []
          },
          "execution_count": 36
        }
      ]
    },
    {
      "cell_type": "code",
      "metadata": {
        "id": "16UBB1cSew3h",
        "colab_type": "code",
        "colab": {}
      },
      "source": [
        "def make_show_progress(exclamation):\n",
        "    _inner = lambda epoch: print(f\"{exclamation}! We've finished epoch {epoch}!\")\n",
        "    return _inner"
      ],
      "execution_count": 37,
      "outputs": []
    },
    {
      "cell_type": "code",
      "metadata": {
        "id": "32wncXxBew3j",
        "colab_type": "code",
        "colab": {
          "base_uri": "https://localhost:8080/",
          "height": 0
        },
        "outputId": "a36160e9-e6c0-4f92-b79b-5e01dd160421"
      },
      "source": [
        "slow_calculation(make_show_progress(\"Nice!\"))"
      ],
      "execution_count": 38,
      "outputs": [
        {
          "output_type": "stream",
          "text": [
            "Nice!! We've finished epoch 0!\n",
            "Nice!! We've finished epoch 1!\n",
            "Nice!! We've finished epoch 2!\n",
            "Nice!! We've finished epoch 3!\n",
            "Nice!! We've finished epoch 4!\n"
          ],
          "name": "stdout"
        },
        {
          "output_type": "execute_result",
          "data": {
            "text/plain": [
              "30"
            ]
          },
          "metadata": {
            "tags": []
          },
          "execution_count": 38
        }
      ]
    },
    {
      "cell_type": "code",
      "metadata": {
        "id": "0LIUyBpeew3m",
        "colab_type": "code",
        "colab": {}
      },
      "source": [
        "def make_show_progress(exclamation):\n",
        "    # Leading \"_\" is generally understood to be \"private\"\n",
        "    def _inner(epoch): print(f\"{exclamation}! We've finished epoch {epoch}!\")\n",
        "    return _inner"
      ],
      "execution_count": 39,
      "outputs": []
    },
    {
      "cell_type": "code",
      "metadata": {
        "id": "_tDkatFJew3u",
        "colab_type": "code",
        "colab": {
          "base_uri": "https://localhost:8080/",
          "height": 0
        },
        "outputId": "89f12b30-f614-4192-dd14-0ac7f4159ce8"
      },
      "source": [
        "slow_calculation(make_show_progress(\"Nice!\"))"
      ],
      "execution_count": 40,
      "outputs": [
        {
          "output_type": "stream",
          "text": [
            "Nice!! We've finished epoch 0!\n",
            "Nice!! We've finished epoch 1!\n",
            "Nice!! We've finished epoch 2!\n",
            "Nice!! We've finished epoch 3!\n",
            "Nice!! We've finished epoch 4!\n"
          ],
          "name": "stdout"
        },
        {
          "output_type": "execute_result",
          "data": {
            "text/plain": [
              "30"
            ]
          },
          "metadata": {
            "tags": []
          },
          "execution_count": 40
        }
      ]
    },
    {
      "cell_type": "code",
      "metadata": {
        "id": "O95Rnr84ew3x",
        "colab_type": "code",
        "colab": {}
      },
      "source": [
        "f2 = make_show_progress(\"Terrific\")"
      ],
      "execution_count": 41,
      "outputs": []
    },
    {
      "cell_type": "code",
      "metadata": {
        "id": "8IFwtPjbew30",
        "colab_type": "code",
        "colab": {
          "base_uri": "https://localhost:8080/",
          "height": 0
        },
        "outputId": "dfb7dc68-db66-41d1-e8ce-14d77308fb26"
      },
      "source": [
        "slow_calculation(f2)"
      ],
      "execution_count": 42,
      "outputs": [
        {
          "output_type": "stream",
          "text": [
            "Terrific! We've finished epoch 0!\n",
            "Terrific! We've finished epoch 1!\n",
            "Terrific! We've finished epoch 2!\n",
            "Terrific! We've finished epoch 3!\n",
            "Terrific! We've finished epoch 4!\n"
          ],
          "name": "stdout"
        },
        {
          "output_type": "execute_result",
          "data": {
            "text/plain": [
              "30"
            ]
          },
          "metadata": {
            "tags": []
          },
          "execution_count": 42
        }
      ]
    },
    {
      "cell_type": "code",
      "metadata": {
        "id": "HCVp1pFyew33",
        "colab_type": "code",
        "colab": {
          "base_uri": "https://localhost:8080/",
          "height": 0
        },
        "outputId": "cfb2cab7-a9f9-43f7-9bb0-dd830804b4c9"
      },
      "source": [
        "slow_calculation(make_show_progress(\"Amazing\"))"
      ],
      "execution_count": 43,
      "outputs": [
        {
          "output_type": "stream",
          "text": [
            "Amazing! We've finished epoch 0!\n",
            "Amazing! We've finished epoch 1!\n",
            "Amazing! We've finished epoch 2!\n",
            "Amazing! We've finished epoch 3!\n",
            "Amazing! We've finished epoch 4!\n"
          ],
          "name": "stdout"
        },
        {
          "output_type": "execute_result",
          "data": {
            "text/plain": [
              "30"
            ]
          },
          "metadata": {
            "tags": []
          },
          "execution_count": 43
        }
      ]
    },
    {
      "cell_type": "code",
      "metadata": {
        "id": "oyYHOAbVew36",
        "colab_type": "code",
        "colab": {}
      },
      "source": [
        "from functools import partial"
      ],
      "execution_count": 44,
      "outputs": []
    },
    {
      "cell_type": "code",
      "metadata": {
        "id": "phb1Yg3eew38",
        "colab_type": "code",
        "colab": {
          "base_uri": "https://localhost:8080/",
          "height": 0
        },
        "outputId": "659067e7-c8ca-4a45-ed28-ac2b75b5c2ab"
      },
      "source": [
        "slow_calculation(partial(show_progress, \"OK I guess\"))"
      ],
      "execution_count": 45,
      "outputs": [
        {
          "output_type": "stream",
          "text": [
            "OK I guess! We've finished epoch 0!\n",
            "OK I guess! We've finished epoch 1!\n",
            "OK I guess! We've finished epoch 2!\n",
            "OK I guess! We've finished epoch 3!\n",
            "OK I guess! We've finished epoch 4!\n"
          ],
          "name": "stdout"
        },
        {
          "output_type": "execute_result",
          "data": {
            "text/plain": [
              "30"
            ]
          },
          "metadata": {
            "tags": []
          },
          "execution_count": 45
        }
      ]
    },
    {
      "cell_type": "code",
      "metadata": {
        "id": "kCzpJoP_ew4Q",
        "colab_type": "code",
        "colab": {}
      },
      "source": [
        "f2 = partial(show_progress, \"OK I guess\")"
      ],
      "execution_count": 46,
      "outputs": []
    },
    {
      "cell_type": "markdown",
      "metadata": {
        "id": "WW0V-C4Iew4S",
        "colab_type": "text"
      },
      "source": [
        "### Callbacks as callable classes"
      ]
    },
    {
      "cell_type": "markdown",
      "metadata": {
        "id": "98fdPBh8ew4S",
        "colab_type": "text"
      },
      "source": [
        "[Jump_to lesson 10 video](https://course.fast.ai/videos/?lesson=10&t=1122)"
      ]
    },
    {
      "cell_type": "code",
      "metadata": {
        "id": "bC47xYEFew4T",
        "colab_type": "code",
        "colab": {}
      },
      "source": [
        "class ProgressShowingCallback():\n",
        "    def __init__(self, exclamation=\"Awesome\"): self.exclamation = exclamation\n",
        "    def __call__(self, epoch): print(f\"{self.exclamation}! We've finished epoch {epoch}!\")"
      ],
      "execution_count": 47,
      "outputs": []
    },
    {
      "cell_type": "code",
      "metadata": {
        "id": "tSId0ablew4Y",
        "colab_type": "code",
        "colab": {}
      },
      "source": [
        "cb = ProgressShowingCallback(\"Just super\")"
      ],
      "execution_count": 48,
      "outputs": []
    },
    {
      "cell_type": "code",
      "metadata": {
        "id": "lFfFSBPTew4b",
        "colab_type": "code",
        "colab": {
          "base_uri": "https://localhost:8080/",
          "height": 0
        },
        "outputId": "2a807827-9e85-43a9-e2d8-8ab7eb8a073c"
      },
      "source": [
        "slow_calculation(cb)"
      ],
      "execution_count": 49,
      "outputs": [
        {
          "output_type": "stream",
          "text": [
            "Just super! We've finished epoch 0!\n",
            "Just super! We've finished epoch 1!\n",
            "Just super! We've finished epoch 2!\n",
            "Just super! We've finished epoch 3!\n",
            "Just super! We've finished epoch 4!\n"
          ],
          "name": "stdout"
        },
        {
          "output_type": "execute_result",
          "data": {
            "text/plain": [
              "30"
            ]
          },
          "metadata": {
            "tags": []
          },
          "execution_count": 49
        }
      ]
    },
    {
      "cell_type": "markdown",
      "metadata": {
        "id": "kWOpkG5Kew4e",
        "colab_type": "text"
      },
      "source": [
        "### Multiple callback funcs; `*args` and `**kwargs`"
      ]
    },
    {
      "cell_type": "markdown",
      "metadata": {
        "id": "UYiHLue2ew4e",
        "colab_type": "text"
      },
      "source": [
        "[Jump_to lesson 10 video](https://course.fast.ai/videos/?lesson=10&t=1194)"
      ]
    },
    {
      "cell_type": "code",
      "metadata": {
        "id": "cUpAbCgcew4f",
        "colab_type": "code",
        "colab": {}
      },
      "source": [
        "def f(*args, **kwargs): print(f\"args: {args}; kwargs: {kwargs}\")"
      ],
      "execution_count": 50,
      "outputs": []
    },
    {
      "cell_type": "code",
      "metadata": {
        "id": "Eb8PtKXoew4h",
        "colab_type": "code",
        "colab": {
          "base_uri": "https://localhost:8080/",
          "height": 0
        },
        "outputId": "a3c7c054-01db-4bca-cc0d-0c23689b46e7"
      },
      "source": [
        "f(3, 'a', thing1=\"hello\")"
      ],
      "execution_count": 51,
      "outputs": [
        {
          "output_type": "stream",
          "text": [
            "args: (3, 'a'); kwargs: {'thing1': 'hello'}\n"
          ],
          "name": "stdout"
        }
      ]
    },
    {
      "cell_type": "markdown",
      "metadata": {
        "id": "0x60DHtEew4j",
        "colab_type": "text"
      },
      "source": [
        "NB: We've been guilty of over-using kwargs in fastai - it's very convenient for the developer, but is annoying for the end-user unless care is taken to ensure docs show all kwargs too. kwargs can also hide bugs (because it might not tell you about a typo in a param name). In [R](https://www.r-project.org/) there's a very similar issue (R uses `...` for the same thing), and matplotlib uses kwargs a lot too."
      ]
    },
    {
      "cell_type": "code",
      "metadata": {
        "id": "_teZvZSXew4k",
        "colab_type": "code",
        "colab": {}
      },
      "source": [
        "def slow_calculation(cb=None):\n",
        "    res = 0\n",
        "    for i in range(5):\n",
        "        if cb: cb.before_calc(i)\n",
        "        res += i*i\n",
        "        sleep(1)\n",
        "        if cb: cb.after_calc(i, val=res)\n",
        "    return res"
      ],
      "execution_count": 52,
      "outputs": []
    },
    {
      "cell_type": "code",
      "metadata": {
        "id": "NrT8_2X1ew4m",
        "colab_type": "code",
        "colab": {}
      },
      "source": [
        "class PrintStepCallback():\n",
        "    def __init__(self): pass\n",
        "    def before_calc(self, *args, **kwargs): print(f\"About to start\")\n",
        "    def after_calc (self, *args, **kwargs): print(f\"Done step\")"
      ],
      "execution_count": 53,
      "outputs": []
    },
    {
      "cell_type": "code",
      "metadata": {
        "id": "kSZv70V6ew4p",
        "colab_type": "code",
        "colab": {
          "base_uri": "https://localhost:8080/",
          "height": 0
        },
        "outputId": "af77bd8d-53f8-4c14-c709-711d700f1e9a"
      },
      "source": [
        "slow_calculation(PrintStepCallback())"
      ],
      "execution_count": 54,
      "outputs": [
        {
          "output_type": "stream",
          "text": [
            "About to start\n",
            "Done step\n",
            "About to start\n",
            "Done step\n",
            "About to start\n",
            "Done step\n",
            "About to start\n",
            "Done step\n",
            "About to start\n",
            "Done step\n"
          ],
          "name": "stdout"
        },
        {
          "output_type": "execute_result",
          "data": {
            "text/plain": [
              "30"
            ]
          },
          "metadata": {
            "tags": []
          },
          "execution_count": 54
        }
      ]
    },
    {
      "cell_type": "code",
      "metadata": {
        "id": "R20OfU7xew4r",
        "colab_type": "code",
        "colab": {}
      },
      "source": [
        "class PrintStatusCallback():\n",
        "    def __init__(self): pass\n",
        "    def before_calc(self, epoch, **kwargs): print(f\"About to start: {epoch}\")\n",
        "    def after_calc (self, epoch, val, **kwargs): print(f\"After {epoch}: {val}\")"
      ],
      "execution_count": 55,
      "outputs": []
    },
    {
      "cell_type": "code",
      "metadata": {
        "id": "no8X-Wnrew4u",
        "colab_type": "code",
        "colab": {
          "base_uri": "https://localhost:8080/",
          "height": 0
        },
        "outputId": "35ba65b8-37f4-4c68-cbb1-17130607041c"
      },
      "source": [
        "slow_calculation(PrintStatusCallback())"
      ],
      "execution_count": 56,
      "outputs": [
        {
          "output_type": "stream",
          "text": [
            "About to start: 0\n",
            "After 0: 0\n",
            "About to start: 1\n",
            "After 1: 1\n",
            "About to start: 2\n",
            "After 2: 5\n",
            "About to start: 3\n",
            "After 3: 14\n",
            "About to start: 4\n",
            "After 4: 30\n"
          ],
          "name": "stdout"
        },
        {
          "output_type": "execute_result",
          "data": {
            "text/plain": [
              "30"
            ]
          },
          "metadata": {
            "tags": []
          },
          "execution_count": 56
        }
      ]
    },
    {
      "cell_type": "markdown",
      "metadata": {
        "id": "2euAYGyzew4w",
        "colab_type": "text"
      },
      "source": [
        "### Modifying behavior"
      ]
    },
    {
      "cell_type": "markdown",
      "metadata": {
        "id": "0OsxhE-0ew4w",
        "colab_type": "text"
      },
      "source": [
        "[Jump_to lesson 10 video](https://course.fast.ai/videos/?lesson=10&t=1454)"
      ]
    },
    {
      "cell_type": "code",
      "metadata": {
        "id": "oQJNU2lpew4w",
        "colab_type": "code",
        "colab": {}
      },
      "source": [
        "def slow_calculation(cb=None):\n",
        "    res = 0\n",
        "    for i in range(5):\n",
        "        if cb and hasattr(cb,'before_calc'): cb.before_calc(i)\n",
        "        res += i*i\n",
        "        sleep(1)\n",
        "        if cb and hasattr(cb,'after_calc'):\n",
        "            if cb.after_calc(i, res):\n",
        "                print(\"stopping early\")\n",
        "                break\n",
        "    return res"
      ],
      "execution_count": 57,
      "outputs": []
    },
    {
      "cell_type": "code",
      "metadata": {
        "id": "hyk8qELWew4z",
        "colab_type": "code",
        "colab": {}
      },
      "source": [
        "class PrintAfterCallback():\n",
        "    def after_calc (self, epoch, val):\n",
        "        print(f\"After {epoch}: {val}\")\n",
        "        if val>10: return True"
      ],
      "execution_count": 58,
      "outputs": []
    },
    {
      "cell_type": "code",
      "metadata": {
        "id": "oiJ9gGUAew42",
        "colab_type": "code",
        "colab": {
          "base_uri": "https://localhost:8080/",
          "height": 0
        },
        "outputId": "54c73a21-f7c2-464f-c1bc-3c926e2d2f51"
      },
      "source": [
        "slow_calculation(PrintAfterCallback())"
      ],
      "execution_count": 59,
      "outputs": [
        {
          "output_type": "stream",
          "text": [
            "After 0: 0\n",
            "After 1: 1\n",
            "After 2: 5\n",
            "After 3: 14\n",
            "stopping early\n"
          ],
          "name": "stdout"
        },
        {
          "output_type": "execute_result",
          "data": {
            "text/plain": [
              "14"
            ]
          },
          "metadata": {
            "tags": []
          },
          "execution_count": 59
        }
      ]
    },
    {
      "cell_type": "code",
      "metadata": {
        "id": "EzCf0LAZew45",
        "colab_type": "code",
        "colab": {}
      },
      "source": [
        "class SlowCalculator():\n",
        "    def __init__(self, cb=None): self.cb,self.res = cb,0\n",
        "    \n",
        "    def callback(self, cb_name, *args):\n",
        "        if not self.cb: return\n",
        "        cb = getattr(self.cb,cb_name, None)\n",
        "        if cb: return cb(self, *args)\n",
        "\n",
        "    def calc(self):\n",
        "        for i in range(5):\n",
        "            self.callback('before_calc', i)\n",
        "            self.res += i*i\n",
        "            sleep(1)\n",
        "            if self.callback('after_calc', i):\n",
        "                print(\"stopping early\")\n",
        "                break"
      ],
      "execution_count": 60,
      "outputs": []
    },
    {
      "cell_type": "code",
      "metadata": {
        "id": "fm1IKlIZew48",
        "colab_type": "code",
        "colab": {}
      },
      "source": [
        "class ModifyingCallback():\n",
        "    def after_calc (self, calc, epoch):\n",
        "        print(f\"After {epoch}: {calc.res}\")\n",
        "        if calc.res>10: return True\n",
        "        if calc.res<3: calc.res = calc.res*2"
      ],
      "execution_count": 61,
      "outputs": []
    },
    {
      "cell_type": "code",
      "metadata": {
        "id": "QB5aAKqRew4-",
        "colab_type": "code",
        "colab": {}
      },
      "source": [
        "calculator = SlowCalculator(ModifyingCallback())"
      ],
      "execution_count": 62,
      "outputs": []
    },
    {
      "cell_type": "code",
      "metadata": {
        "id": "tesm8Jd0DozX",
        "colab_type": "code",
        "colab": {
          "base_uri": "https://localhost:8080/",
          "height": 0
        },
        "outputId": "6545e2e6-a95a-4505-df3e-6e088da05080"
      },
      "source": [
        "calculator.calc()\n",
        "calculator.res\n"
      ],
      "execution_count": 63,
      "outputs": [
        {
          "output_type": "stream",
          "text": [
            "After 0: 0\n",
            "After 1: 1\n",
            "After 2: 6\n",
            "After 3: 15\n",
            "stopping early\n"
          ],
          "name": "stdout"
        },
        {
          "output_type": "execute_result",
          "data": {
            "text/plain": [
              "15"
            ]
          },
          "metadata": {
            "tags": []
          },
          "execution_count": 63
        }
      ]
    },
    {
      "cell_type": "code",
      "metadata": {
        "id": "CMYmQPTHew5B",
        "colab_type": "code",
        "colab": {
          "base_uri": "https://localhost:8080/",
          "height": 0
        },
        "outputId": "7abe434d-3483-46a5-cf20-2926928b9240"
      },
      "source": [
        "calculator.res"
      ],
      "execution_count": 64,
      "outputs": [
        {
          "output_type": "execute_result",
          "data": {
            "text/plain": [
              "15"
            ]
          },
          "metadata": {
            "tags": []
          },
          "execution_count": 64
        }
      ]
    },
    {
      "cell_type": "markdown",
      "metadata": {
        "id": "y_H7Y95Dew5D",
        "colab_type": "text"
      },
      "source": [
        "## `__dunder__` thingies"
      ]
    },
    {
      "cell_type": "markdown",
      "metadata": {
        "id": "lMMBDbCbew5D",
        "colab_type": "text"
      },
      "source": [
        "Anything that looks like `__this__` is, in some way, *special*. Python, or some library, can define some functions that they will call at certain documented times. For instance, when your class is setting up a new object, python will call `__init__`. These are defined as part of the python [data model](https://docs.python.org/3/reference/datamodel.html#object.__init__).\n",
        "\n",
        "For instance, if python sees `+`, then it will call the special method `__add__`. If you try to display an object in Jupyter (or lots of other places in Python) it will call `__repr__`."
      ]
    },
    {
      "cell_type": "markdown",
      "metadata": {
        "id": "hfi47zgcew5E",
        "colab_type": "text"
      },
      "source": [
        "[Jump_to lesson 10 video](https://course.fast.ai/videos/?lesson=10&t=1647)"
      ]
    },
    {
      "cell_type": "code",
      "metadata": {
        "id": "JfXLEBwpew5E",
        "colab_type": "code",
        "colab": {}
      },
      "source": [
        "class SloppyAdder():\n",
        "    def __init__(self,o): self.o=o\n",
        "    def __add__(self,b):\n",
        "      return SloppyAdder(self.o + b.o + 0.01)\n",
        "    def __repr__(self): return str(self.o)"
      ],
      "execution_count": 65,
      "outputs": []
    },
    {
      "cell_type": "code",
      "metadata": {
        "id": "W2gen3Pcew5G",
        "colab_type": "code",
        "colab": {
          "base_uri": "https://localhost:8080/",
          "height": 0
        },
        "outputId": "e54a67cb-ffca-41fa-8a6b-428804c6178b"
      },
      "source": [
        "a = SloppyAdder(1)\n",
        "b = SloppyAdder(2)\n",
        "a+b"
      ],
      "execution_count": 66,
      "outputs": [
        {
          "output_type": "execute_result",
          "data": {
            "text/plain": [
              "3.01"
            ]
          },
          "metadata": {
            "tags": []
          },
          "execution_count": 66
        }
      ]
    },
    {
      "cell_type": "markdown",
      "metadata": {
        "id": "2vmISr6-ew5I",
        "colab_type": "text"
      },
      "source": [
        "Special methods you should probably know about (see data model link above) are:\n",
        "\n",
        "- `__getitem__`\n",
        "- `__getattr__`\n",
        "- `__setattr__`\n",
        "- `__del__`\n",
        "- `__init__`\n",
        "- `__new__`\n",
        "- `__enter__`\n",
        "- `__exit__`\n",
        "- `__len__`\n",
        "- `__repr__`\n",
        "- `__str__`"
      ]
    },
    {
      "cell_type": "markdown",
      "metadata": {
        "id": "-S99uMHnew5I",
        "colab_type": "text"
      },
      "source": [
        "## Variance and stuff"
      ]
    },
    {
      "cell_type": "markdown",
      "metadata": {
        "id": "rM16uoVBew5J",
        "colab_type": "text"
      },
      "source": [
        "### Variance"
      ]
    },
    {
      "cell_type": "markdown",
      "metadata": {
        "id": "AvA2UHMtew5J",
        "colab_type": "text"
      },
      "source": [
        "Variance is the average of how far away each data point is from the mean. E.g.:"
      ]
    },
    {
      "cell_type": "markdown",
      "metadata": {
        "id": "XWplrpMFew5J",
        "colab_type": "text"
      },
      "source": [
        "[Jump_to lesson 10 video](https://course.fast.ai/videos/?lesson=10&t=2133)"
      ]
    },
    {
      "cell_type": "code",
      "metadata": {
        "id": "2djVLiU5ew5K",
        "colab_type": "code",
        "colab": {}
      },
      "source": [
        "t = torch.tensor([1.,2.,4.,18])"
      ],
      "execution_count": 67,
      "outputs": []
    },
    {
      "cell_type": "code",
      "metadata": {
        "id": "sy8NMuapew5M",
        "colab_type": "code",
        "colab": {
          "base_uri": "https://localhost:8080/",
          "height": 0
        },
        "outputId": "839e7a99-303e-43c9-d633-5c2437a84c21"
      },
      "source": [
        "m = t.mean(); m"
      ],
      "execution_count": 68,
      "outputs": [
        {
          "output_type": "execute_result",
          "data": {
            "text/plain": [
              "tensor(6.2500)"
            ]
          },
          "metadata": {
            "tags": []
          },
          "execution_count": 68
        }
      ]
    },
    {
      "cell_type": "code",
      "metadata": {
        "id": "WaCYYj4Few5O",
        "colab_type": "code",
        "colab": {
          "base_uri": "https://localhost:8080/",
          "height": 0
        },
        "outputId": "586602af-36e6-49c3-ffdf-52254821aeda"
      },
      "source": [
        "(t-m).mean()"
      ],
      "execution_count": 69,
      "outputs": [
        {
          "output_type": "execute_result",
          "data": {
            "text/plain": [
              "tensor(0.)"
            ]
          },
          "metadata": {
            "tags": []
          },
          "execution_count": 69
        }
      ]
    },
    {
      "cell_type": "markdown",
      "metadata": {
        "id": "ZdIhIGu5ew5R",
        "colab_type": "text"
      },
      "source": [
        "Oops. We can't do that. Because by definition the positives and negatives cancel out. So we can fix that in one of (at least) two ways:"
      ]
    },
    {
      "cell_type": "code",
      "metadata": {
        "id": "yUIIRoWsew5R",
        "colab_type": "code",
        "colab": {
          "base_uri": "https://localhost:8080/",
          "height": 0
        },
        "outputId": "eb1fd7d1-3a1d-420a-a5e7-80f185e5f93f"
      },
      "source": [
        "(t-m).pow(2).mean()"
      ],
      "execution_count": 70,
      "outputs": [
        {
          "output_type": "execute_result",
          "data": {
            "text/plain": [
              "tensor(47.1875)"
            ]
          },
          "metadata": {
            "tags": []
          },
          "execution_count": 70
        }
      ]
    },
    {
      "cell_type": "code",
      "metadata": {
        "id": "oPSPPBn3ew5U",
        "colab_type": "code",
        "colab": {
          "base_uri": "https://localhost:8080/",
          "height": 0
        },
        "outputId": "5b5076e9-8817-4abb-db32-8375588be6f1"
      },
      "source": [
        "(t-m).abs().mean()"
      ],
      "execution_count": 71,
      "outputs": [
        {
          "output_type": "execute_result",
          "data": {
            "text/plain": [
              "tensor(5.8750)"
            ]
          },
          "metadata": {
            "tags": []
          },
          "execution_count": 71
        }
      ]
    },
    {
      "cell_type": "markdown",
      "metadata": {
        "id": "xCpxHNoTew5W",
        "colab_type": "text"
      },
      "source": [
        "But the first of these is now a totally different scale, since we squared. So let's undo that at the end."
      ]
    },
    {
      "cell_type": "code",
      "metadata": {
        "id": "AsIz9ppNew5W",
        "colab_type": "code",
        "colab": {
          "base_uri": "https://localhost:8080/",
          "height": 0
        },
        "outputId": "446101a3-4013-4342-fbd3-db859017bec9"
      },
      "source": [
        "(t-m).pow(2).mean().sqrt()"
      ],
      "execution_count": 72,
      "outputs": [
        {
          "output_type": "execute_result",
          "data": {
            "text/plain": [
              "tensor(6.8693)"
            ]
          },
          "metadata": {
            "tags": []
          },
          "execution_count": 72
        }
      ]
    },
    {
      "cell_type": "markdown",
      "metadata": {
        "id": "qEE6IsJ1ew5Z",
        "colab_type": "text"
      },
      "source": [
        "They're still different. Why?\n",
        "\n",
        "Note that we have one outlier (`18`). In the version where we square everything, it makes that much bigger than everything else.\n",
        "\n",
        "`(t-m).pow(2).mean()` is refered to as **variance**. It's a measure of how spread out the data is, and is particularly sensitive to outliers.\n",
        "\n",
        "When we take the sqrt of the variance, we get the **standard deviation**. Since it's on the same kind of scale as the original data, it's generally more interpretable. However, since `sqrt(1)==1`, it doesn't much matter which we use when talking about *unit variance* for initializing neural nets.\n",
        "\n",
        "`(t-m).abs().mean()` is referred to as the **mean absolute deviation**. It isn't used nearly as much as it deserves to be, because mathematicians don't like how awkward it is to work with. But that shouldn't stop us, because we have computers and stuff.\n",
        "\n",
        "Here's a useful thing to note about variance:"
      ]
    },
    {
      "cell_type": "code",
      "metadata": {
        "id": "KgdNpXUbew5Z",
        "colab_type": "code",
        "colab": {
          "base_uri": "https://localhost:8080/",
          "height": 0
        },
        "outputId": "c57636fb-473c-4120-b7c7-7ec4330033f1"
      },
      "source": [
        "(t-m).pow(2).mean(), (t*t).mean() - (m*m)"
      ],
      "execution_count": 73,
      "outputs": [
        {
          "output_type": "execute_result",
          "data": {
            "text/plain": [
              "(tensor(47.1875), tensor(47.1875))"
            ]
          },
          "metadata": {
            "tags": []
          },
          "execution_count": 73
        }
      ]
    },
    {
      "cell_type": "markdown",
      "metadata": {
        "id": "fqA8GKxYew5b",
        "colab_type": "text"
      },
      "source": [
        "You can see why these are equal if you want to work thru the algebra. Or not.\n",
        "\n",
        "But, what's important here is that the latter is generally much easier to work with. In particular, you only have to track two things: the sum of the data, and the sum of squares of the data. Whereas in the first form you actually have to go thru all the data twice (once to calculate the mean, once to calculate the differences).\n",
        "\n",
        "Let's go steal the LaTeX from [Wikipedia](https://en.wikipedia.org/wiki/Variance):\n",
        "\n",
        "$$\\operatorname{E}\\left[X^2 \\right] - \\operatorname{E}[X]^2$$"
      ]
    },
    {
      "cell_type": "markdown",
      "metadata": {
        "id": "pWAn736sew5b",
        "colab_type": "text"
      },
      "source": [
        "### Covariance and correlation"
      ]
    },
    {
      "cell_type": "markdown",
      "metadata": {
        "id": "IHiH7mf0ew5c",
        "colab_type": "text"
      },
      "source": [
        "Here's how Wikipedia defines covariance:\n",
        "\n",
        "$$\\operatorname{cov}(X,Y) = \\operatorname{E}{\\big[(X - \\operatorname{E}[X])(Y - \\operatorname{E}[Y])\\big]}$$"
      ]
    },
    {
      "cell_type": "markdown",
      "metadata": {
        "id": "7IG7L8m8ew5c",
        "colab_type": "text"
      },
      "source": [
        "[Jump_to lesson 10 video](https://course.fast.ai/videos/?lesson=10&t=2414)"
      ]
    },
    {
      "cell_type": "code",
      "metadata": {
        "id": "LD_3PIQoew5c",
        "colab_type": "code",
        "colab": {
          "base_uri": "https://localhost:8080/",
          "height": 34
        },
        "outputId": "881e9163-fed9-47f9-d105-f0225054553f"
      },
      "source": [
        "t"
      ],
      "execution_count": 74,
      "outputs": [
        {
          "output_type": "execute_result",
          "data": {
            "text/plain": [
              "tensor([ 1.,  2.,  4., 18.])"
            ]
          },
          "metadata": {
            "tags": []
          },
          "execution_count": 74
        }
      ]
    },
    {
      "cell_type": "markdown",
      "metadata": {
        "id": "qM24XOSMew5e",
        "colab_type": "text"
      },
      "source": [
        "Let's see that in code. So now we need two vectors."
      ]
    },
    {
      "cell_type": "code",
      "metadata": {
        "id": "6PpyHORxew5f",
        "colab_type": "code",
        "colab": {
          "base_uri": "https://localhost:8080/",
          "height": 265
        },
        "outputId": "1ff0e062-b557-4f32-ff31-7e0a43bf8c8f"
      },
      "source": [
        "# `u` is twice `t`, plus a bit of randomness\n",
        "u = t*2\n",
        "#u *= torch.randn_like(t)/10+0.95\n",
        "\n",
        "plt.scatter(t, u);"
      ],
      "execution_count": 75,
      "outputs": [
        {
          "output_type": "display_data",
          "data": {
            "image/png": "[encoded data removed]",
            "text/plain": [
              "<Figure size 432x288 with 1 Axes>"
            ]
          },
          "metadata": {
            "tags": [],
            "needs_background": "light"
          }
        }
      ]
    },
    {
      "cell_type": "code",
      "metadata": {
        "id": "9C6AQjxAew5h",
        "colab_type": "code",
        "colab": {
          "base_uri": "https://localhost:8080/",
          "height": 34
        },
        "outputId": "ee90177d-abc6-4db9-d2bc-eb2ad486a736"
      },
      "source": [
        "prod = (t-t.mean())*(u-u.mean()); prod"
      ],
      "execution_count": 76,
      "outputs": [
        {
          "output_type": "execute_result",
          "data": {
            "text/plain": [
              "tensor([ 55.1250,  36.1250,  10.1250, 276.1250])"
            ]
          },
          "metadata": {
            "tags": []
          },
          "execution_count": 76
        }
      ]
    },
    {
      "cell_type": "code",
      "metadata": {
        "id": "B-P1WEtzew5k",
        "colab_type": "code",
        "colab": {
          "base_uri": "https://localhost:8080/",
          "height": 34
        },
        "outputId": "d28c2ba6-d459-4d81-cff5-f377bd67626a"
      },
      "source": [
        "prod.mean()"
      ],
      "execution_count": 77,
      "outputs": [
        {
          "output_type": "execute_result",
          "data": {
            "text/plain": [
              "tensor(94.3750)"
            ]
          },
          "metadata": {
            "tags": []
          },
          "execution_count": 77
        }
      ]
    },
    {
      "cell_type": "code",
      "metadata": {
        "id": "MKMz0VbUew5m",
        "colab_type": "code",
        "colab": {
          "base_uri": "https://localhost:8080/",
          "height": 269
        },
        "outputId": "593bc403-199b-46a4-d15a-ef1d4d437574"
      },
      "source": [
        "v = torch.randn_like(t)\n",
        "plt.scatter(t, v);"
      ],
      "execution_count": 78,
      "outputs": [
        {
          "output_type": "display_data",
          "data": {
            "image/png": "[encoded data removed]",
            "text/plain": [
              "<Figure size 432x288 with 1 Axes>"
            ]
          },
          "metadata": {
            "tags": [],
            "needs_background": "light"
          }
        }
      ]
    },
    {
      "cell_type": "code",
      "metadata": {
        "id": "XoGUCPaOew5o",
        "colab_type": "code",
        "colab": {
          "base_uri": "https://localhost:8080/",
          "height": 34
        },
        "outputId": "b550c4b0-6ab5-430e-ae34-dc76395090f0"
      },
      "source": [
        "((t-t.mean())*(v-v.mean())).mean()"
      ],
      "execution_count": 79,
      "outputs": [
        {
          "output_type": "execute_result",
          "data": {
            "text/plain": [
              "tensor(-0.5680)"
            ]
          },
          "metadata": {
            "tags": []
          },
          "execution_count": 79
        }
      ]
    },
    {
      "cell_type": "markdown",
      "metadata": {
        "id": "4VbNaQZMew5q",
        "colab_type": "text"
      },
      "source": [
        "It's generally more conveniently defined like so:\n",
        "\n",
        "$$\\operatorname{E}\\left[X Y\\right] - \\operatorname{E}\\left[X\\right] \\operatorname{E}\\left[Y\\right]$$"
      ]
    },
    {
      "cell_type": "code",
      "metadata": {
        "id": "bxq-0Atwew5r",
        "colab_type": "code",
        "colab": {
          "base_uri": "https://localhost:8080/",
          "height": 34
        },
        "outputId": "9119b71b-c2bf-491f-ab36-6b9bdaffc8f1"
      },
      "source": [
        "cov = (t*v).mean() - t.mean()*v.mean(); cov"
      ],
      "execution_count": 80,
      "outputs": [
        {
          "output_type": "execute_result",
          "data": {
            "text/plain": [
              "tensor(-0.5680)"
            ]
          },
          "metadata": {
            "tags": []
          },
          "execution_count": 80
        }
      ]
    },
    {
      "cell_type": "markdown",
      "metadata": {
        "id": "Hnc_OqfVew5t",
        "colab_type": "text"
      },
      "source": [
        "From now on, you're not allowed to look at an equation (or especially type it in LaTeX) without also typing it in Python and actually calculating some values. Ideally, you should also plot some values.\n",
        "\n",
        "Finally, here is the Pearson correlation coefficient:\n",
        "\n",
        "$$\\rho_{X,Y}= \\frac{\\operatorname{cov}(X,Y)}{\\sigma_X \\sigma_Y}$$"
      ]
    },
    {
      "cell_type": "code",
      "metadata": {
        "id": "oQ1QAGz8ew5t",
        "colab_type": "code",
        "colab": {
          "base_uri": "https://localhost:8080/",
          "height": 34
        },
        "outputId": "d3aafc6f-06f8-4dbf-f941-3e540654cac1"
      },
      "source": [
        "cov / (t.std() * v.std())"
      ],
      "execution_count": 81,
      "outputs": [
        {
          "output_type": "execute_result",
          "data": {
            "text/plain": [
              "tensor(-0.1707)"
            ]
          },
          "metadata": {
            "tags": []
          },
          "execution_count": 81
        }
      ]
    },
    {
      "cell_type": "markdown",
      "metadata": {
        "id": "cBqhmVPLew5v",
        "colab_type": "text"
      },
      "source": [
        "It's just a scaled version of the same thing. Question: *Why is it scaled by standard deviation, and not by variance or mean or something else?*"
      ]
    },
    {
      "cell_type": "markdown",
      "metadata": {
        "id": "DC0kO-i-ew5v",
        "colab_type": "text"
      },
      "source": [
        "## Softmax"
      ]
    },
    {
      "cell_type": "markdown",
      "metadata": {
        "id": "g8iEPX8iew5v",
        "colab_type": "text"
      },
      "source": [
        "Here's our final `logsoftmax` definition:"
      ]
    },
    {
      "cell_type": "markdown",
      "metadata": {
        "id": "prm572XGew5v",
        "colab_type": "text"
      },
      "source": [
        "[Jump_to lesson 10 video](https://course.fast.ai/videos/?lesson=10&t=2674)"
      ]
    },
    {
      "cell_type": "code",
      "metadata": {
        "id": "mu4xNq0Uew5w",
        "colab_type": "code",
        "colab": {}
      },
      "source": [
        "def log_softmax(x): return x - x.exp().sum(-1,keepdim=True).log()"
      ],
      "execution_count": 82,
      "outputs": []
    },
    {
      "cell_type": "markdown",
      "metadata": {
        "id": "jMH8yWUVew5x",
        "colab_type": "text"
      },
      "source": [
        "which is:\n",
        "\n",
        "$$\\hbox{logsoftmax(x)}_{i} = x_{i} - \\log \\sum_{j} e^{x_{j}}$$ \n",
        "\n",
        "And our cross entropy loss is:\n",
        "$$-\\log(p_{i})$$"
      ]
    },
    {
      "cell_type": "markdown",
      "metadata": {
        "id": "7WnUhrDxew5y",
        "colab_type": "text"
      },
      "source": [
        "## Browsing source code"
      ]
    },
    {
      "cell_type": "markdown",
      "metadata": {
        "id": "EflzJ-Y0ew5y",
        "colab_type": "text"
      },
      "source": [
        "[Jump_to lesson 10 video](https://course.fast.ai/videos/?lesson=10&t=1782)"
      ]
    },
    {
      "cell_type": "markdown",
      "metadata": {
        "id": "FfZR898mew5y",
        "colab_type": "text"
      },
      "source": [
        "- Jump to tag/symbol by with (with completions)\n",
        "- Jump to current tag\n",
        "- Jump to library tags\n",
        "- Go back\n",
        "- Search\n",
        "- Outlining / folding"
      ]
    }
  ]
}