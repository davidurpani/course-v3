{
  "nbformat": 4,
  "nbformat_minor": 0,
  "metadata": {
    "kernelspec": {
      "display_name": "Python 3",
      "language": "python",
      "name": "python3"
    },
    "colab": {
      "name": "01_matmul.ipynb",
      "provenance": [],
      "collapsed_sections": [
        "Yb4kk4VCZBBb",
        "f2OxeqICZBBo",
        "pKi8RbErZBB2",
        "98wyR2ByZBCB",
        "SYuwytFrZBCM",
        "FEqNk__hZBC2",
        "ZXhryt2VZBC_"
      ],
      "include_colab_link": true
    }
  },
  "cells": [
    {
      "cell_type": "markdown",
      "metadata": {
        "id": "view-in-github",
        "colab_type": "text"
      },
      "source": [
        "<a href=\"https://colab.research.google.com/github/davidurpani/course-v3/blob/master/nbs/dl2/01_matmul.ipynb\" target=\"_parent\"><img src=\"https://colab.research.google.com/assets/colab-badge.svg\" alt=\"Open In Colab\"/></a>"
      ]
    },
    {
      "cell_type": "code",
      "metadata": {
        "id": "_C4MkLRXZZys",
        "colab_type": "code",
        "colab": {
          "base_uri": "https://localhost:8080/",
          "height": 34
        },
        "outputId": "6398a3f0-4425-4cf8-8eea-b705f968230a"
      },
      "source": [
        "#Mount gdrive\n",
        "from google.colab import drive\n",
        "drive.mount('/gdrive')"
      ],
      "execution_count": 57,
      "outputs": [
        {
          "output_type": "stream",
          "text": [
            "Drive already mounted at /gdrive; to attempt to forcibly remount, call drive.mount(\"/gdrive\", force_remount=True).\n"
          ],
          "name": "stdout"
        }
      ]
    },
    {
      "cell_type": "code",
      "metadata": {
        "id": "8Yt7ntC0ZuDz",
        "colab_type": "code",
        "colab": {
          "base_uri": "https://localhost:8080/",
          "height": 34
        },
        "outputId": "95df563a-ddfa-424c-8249-bde7dec76d10"
      },
      "source": [
        "cd /gdrive/My Drive/course-v3/nbs/dl2"
      ],
      "execution_count": 58,
      "outputs": [
        {
          "output_type": "stream",
          "text": [
            "/gdrive/My Drive/course-v3/nbs/dl2\n"
          ],
          "name": "stdout"
        }
      ]
    },
    {
      "cell_type": "markdown",
      "metadata": {
        "id": "-kzuX0ouZBAr",
        "colab_type": "text"
      },
      "source": [
        "## Matrix multiplication from foundations"
      ]
    },
    {
      "cell_type": "markdown",
      "metadata": {
        "id": "SgwzEzzeZBAs",
        "colab_type": "text"
      },
      "source": [
        "The *foundations* we'll assume throughout this course are:\n",
        "\n",
        "- Python\n",
        "- Python modules (non-DL)\n",
        "- pytorch indexable tensor, and tensor creation (including RNGs - random number generators)\n",
        "- fastai.datasets"
      ]
    },
    {
      "cell_type": "markdown",
      "metadata": {
        "id": "_lPSg6e8ZBAt",
        "colab_type": "text"
      },
      "source": [
        "## Check imports"
      ]
    },
    {
      "cell_type": "code",
      "metadata": {
        "id": "AmfJ12mSZBAt",
        "colab_type": "code",
        "colab": {
          "base_uri": "https://localhost:8080/",
          "height": 51
        },
        "outputId": "d84aef95-d102-4176-f07d-6a864ef62818"
      },
      "source": [
        "%load_ext autoreload\n",
        "%autoreload 2\n",
        "\n",
        "%matplotlib inline"
      ],
      "execution_count": 59,
      "outputs": [
        {
          "output_type": "stream",
          "text": [
            "The autoreload extension is already loaded. To reload it, use:\n",
            "  %reload_ext autoreload\n"
          ],
          "name": "stdout"
        }
      ]
    },
    {
      "cell_type": "markdown",
      "metadata": {
        "id": "BNzwOKjPZBAx",
        "colab_type": "text"
      },
      "source": [
        "[Jump_to lesson 8 video](https://course.fast.ai/videos/?lesson=8&t=1850)"
      ]
    },
    {
      "cell_type": "code",
      "metadata": {
        "id": "uuVg0iJhZBAy",
        "colab_type": "code",
        "colab": {}
      },
      "source": [
        "#export\n",
        "from exp.nb_00 import *\n",
        "import operator\n",
        "\n",
        "def test(a,b,cmp,cname=None):\n",
        "    if cname is None: cname=cmp.__name__\n",
        "    assert cmp(a,b),f\"{cname}:\\n{a}\\n{b}\"\n",
        "\n",
        "def test_eq(a,b): test(a,b,operator.eq,'==')"
      ],
      "execution_count": 60,
      "outputs": []
    },
    {
      "cell_type": "code",
      "metadata": {
        "id": "U1vpOQTyc_g1",
        "colab_type": "code",
        "colab": {}
      },
      "source": [
        "x = 2; y = 2\n",
        "test_eq(x,y)"
      ],
      "execution_count": 48,
      "outputs": []
    },
    {
      "cell_type": "code",
      "metadata": {
        "id": "Hi-6AGUOZBA1",
        "colab_type": "code",
        "colab": {}
      },
      "source": [
        "test_eq(TEST,'test')"
      ],
      "execution_count": 9,
      "outputs": []
    },
    {
      "cell_type": "code",
      "metadata": {
        "id": "ofjXtThqha92",
        "colab_type": "code",
        "colab": {}
      },
      "source": [
        "#!pip install fire"
      ],
      "execution_count": 63,
      "outputs": []
    },
    {
      "cell_type": "code",
      "metadata": {
        "id": "ZrYcqiBAZBA4",
        "colab_type": "code",
        "colab": {}
      },
      "source": [
        "# To run tests in console:\n",
        "#! python run_notebook.py 01_matmul.ipynb"
      ],
      "execution_count": 65,
      "outputs": []
    },
    {
      "cell_type": "markdown",
      "metadata": {
        "id": "nr7jkNjBZBA6",
        "colab_type": "text"
      },
      "source": [
        "## Get data"
      ]
    },
    {
      "cell_type": "markdown",
      "metadata": {
        "id": "IyZJpq41ZBA7",
        "colab_type": "text"
      },
      "source": [
        "[Jump_to lesson 8 video](https://course.fast.ai/videos/?lesson=8&t=2159)"
      ]
    },
    {
      "cell_type": "code",
      "metadata": {
        "id": "Z8ZT6GrZZBA7",
        "colab_type": "code",
        "colab": {}
      },
      "source": [
        "#export\n",
        "from pathlib import Path\n",
        "from IPython.core.debugger import set_trace\n",
        "from fastai import datasets\n",
        "import pickle, gzip, math, torch, matplotlib as mpl\n",
        "import matplotlib.pyplot as plt\n",
        "from torch import tensor\n",
        "\n",
        "MNIST_URL='http://deeplearning.net/data/mnist/mnist.pkl'"
      ],
      "execution_count": 66,
      "outputs": []
    },
    {
      "cell_type": "code",
      "metadata": {
        "id": "aI4CunTXZBA-",
        "colab_type": "code",
        "colab": {
          "base_uri": "https://localhost:8080/",
          "height": 51
        },
        "outputId": "2e467f55-069e-4afd-e929-ab858699b969"
      },
      "source": [
        "path = datasets.download_data(MNIST_URL, ext='.gz'); path"
      ],
      "execution_count": 2,
      "outputs": [
        {
          "output_type": "stream",
          "text": [
            "Downloading http://deeplearning.net/data/mnist/mnist.pkl.gz\n"
          ],
          "name": "stdout"
        },
        {
          "output_type": "display_data",
          "data": {
            "text/html": [
              ""
            ],
            "text/plain": [
              "<IPython.core.display.HTML object>"
            ]
          },
          "metadata": {
            "tags": []
          }
        },
        {
          "output_type": "execute_result",
          "data": {
            "text/plain": [
              "PosixPath('/root/.fastai/data/mnist.pkl.gz')"
            ]
          },
          "metadata": {
            "tags": []
          },
          "execution_count": 2
        }
      ]
    },
    {
      "cell_type": "code",
      "metadata": {
        "id": "ME7Nw-ivZBBC",
        "colab_type": "code",
        "colab": {}
      },
      "source": [
        "with gzip.open(path, 'rb') as f:\n",
        "    ((x_train, y_train), (x_valid, y_valid), _) = pickle.load(f, encoding='latin-1')"
      ],
      "execution_count": 3,
      "outputs": []
    },
    {
      "cell_type": "code",
      "metadata": {
        "id": "uEcqEI7kZBBF",
        "colab_type": "code",
        "colab": {
          "base_uri": "https://localhost:8080/",
          "height": 309
        },
        "outputId": "ace447ad-2c5e-4aef-d51d-851bb17c3824"
      },
      "source": [
        "x_train,y_train,x_valid,y_valid = map(tensor, (x_train,y_train,x_valid,y_valid))\n",
        "n,c = x_train.shape\n",
        "x_train, x_train.shape, y_train, y_train.shape, y_train.min(), y_train.max(), n, c"
      ],
      "execution_count": 11,
      "outputs": [
        {
          "output_type": "stream",
          "text": [
            "/usr/local/lib/python3.6/dist-packages/ipykernel_launcher.py:1: UserWarning: To copy construct from a tensor, it is recommended to use sourceTensor.clone().detach() or sourceTensor.clone().detach().requires_grad_(True), rather than torch.tensor(sourceTensor).\n",
            "  \"\"\"Entry point for launching an IPython kernel.\n"
          ],
          "name": "stderr"
        },
        {
          "output_type": "execute_result",
          "data": {
            "text/plain": [
              "(tensor([[0., 0., 0.,  ..., 0., 0., 0.],\n",
              "         [0., 0., 0.,  ..., 0., 0., 0.],\n",
              "         [0., 0., 0.,  ..., 0., 0., 0.],\n",
              "         ...,\n",
              "         [0., 0., 0.,  ..., 0., 0., 0.],\n",
              "         [0., 0., 0.,  ..., 0., 0., 0.],\n",
              "         [0., 0., 0.,  ..., 0., 0., 0.]]),\n",
              " torch.Size([50000, 784]),\n",
              " tensor([5, 0, 4,  ..., 8, 4, 8]),\n",
              " torch.Size([50000]),\n",
              " tensor(0),\n",
              " tensor(9),\n",
              " 50000,\n",
              " 784)"
            ]
          },
          "metadata": {
            "tags": []
          },
          "execution_count": 11
        }
      ]
    },
    {
      "cell_type": "code",
      "metadata": {
        "id": "nyLgGHHtZBBH",
        "colab_type": "code",
        "colab": {}
      },
      "source": [
        "assert n==y_train.shape[0]==50000\n",
        "test_eq(c,28*28)\n",
        "test_eq(y_train.min(),0)\n",
        "test_eq(y_train.max(),9)"
      ],
      "execution_count": 12,
      "outputs": []
    },
    {
      "cell_type": "code",
      "metadata": {
        "id": "9NJuuMDYZBBK",
        "colab_type": "code",
        "colab": {}
      },
      "source": [
        "mpl.rcParams['image.cmap'] = 'gray'"
      ],
      "execution_count": 19,
      "outputs": []
    },
    {
      "cell_type": "code",
      "metadata": {
        "id": "FSIw9ZWNZBBM",
        "colab_type": "code",
        "colab": {}
      },
      "source": [
        "img = x_train[0]"
      ],
      "execution_count": 13,
      "outputs": []
    },
    {
      "cell_type": "code",
      "metadata": {
        "id": "9H4VpSluZBBP",
        "colab_type": "code",
        "colab": {
          "base_uri": "https://localhost:8080/",
          "height": 35
        },
        "outputId": "08ab2ff7-431c-4440-c07f-47b1fc7cb3ad"
      },
      "source": [
        "img.view(28,28).type()"
      ],
      "execution_count": 14,
      "outputs": [
        {
          "output_type": "execute_result",
          "data": {
            "application/vnd.google.colaboratory.intrinsic": {
              "type": "string"
            },
            "text/plain": [
              "'torch.FloatTensor'"
            ]
          },
          "metadata": {
            "tags": []
          },
          "execution_count": 14
        }
      ]
    },
    {
      "cell_type": "code",
      "metadata": {
        "id": "EcrBhywRZBBT",
        "colab_type": "code",
        "colab": {
          "base_uri": "https://localhost:8080/",
          "height": 265
        },
        "outputId": "cfad3052-fd30-46da-f0c7-27a3ba63821c"
      },
      "source": [
        "plt.imshow(img.view((28,28)));"
      ],
      "execution_count": 15,
      "outputs": [
        {
          "output_type": "display_data",
          "data": {
            "image/png": "[encoded data removed]",
            "text/plain": [
              "<Figure size 432x288 with 1 Axes>"
            ]
          },
          "metadata": {
            "tags": [],
            "needs_background": "light"
          }
        }
      ]
    },
    {
      "cell_type": "markdown",
      "metadata": {
        "id": "QUTp1UhMZBBV",
        "colab_type": "text"
      },
      "source": [
        "## Initial python model"
      ]
    },
    {
      "cell_type": "markdown",
      "metadata": {
        "id": "FXimXSZsZBBW",
        "colab_type": "text"
      },
      "source": [
        " [Jump_to lesson 8 video](https://course.fast.ai/videos/?lesson=8&t=2342)"
      ]
    },
    {
      "cell_type": "markdown",
      "metadata": {
        "id": "qMl5Y_zbZBBW",
        "colab_type": "text"
      },
      "source": [
        " [Jump_to lesson 8 video](https://course.fast.ai/videos/?lesson=8&t=2342)"
      ]
    },
    {
      "cell_type": "code",
      "metadata": {
        "id": "SY8si0aBZBBX",
        "colab_type": "code",
        "colab": {}
      },
      "source": [
        "weights = torch.randn(784,10)"
      ],
      "execution_count": 16,
      "outputs": []
    },
    {
      "cell_type": "code",
      "metadata": {
        "id": "R4esNYZsZBBZ",
        "colab_type": "code",
        "colab": {}
      },
      "source": [
        "bias = torch.zeros(10)"
      ],
      "execution_count": 17,
      "outputs": []
    },
    {
      "cell_type": "markdown",
      "metadata": {
        "id": "Yb4kk4VCZBBb",
        "colab_type": "text"
      },
      "source": [
        "#### Matrix multiplication"
      ]
    },
    {
      "cell_type": "code",
      "metadata": {
        "id": "uAfxwohqZBBb",
        "colab_type": "code",
        "colab": {}
      },
      "source": [
        "def matmul(a,b):\n",
        "    ar,ac = a.shape # n_rows * n_cols\n",
        "    br,bc = b.shape\n",
        "    assert ac==br\n",
        "    c = torch.zeros(ar, bc)\n",
        "    for i in range(ar):\n",
        "        for j in range(bc):\n",
        "            for k in range(ac): # or br\n",
        "                c[i,j] += a[i,k] * b[k,j]\n",
        "    return c"
      ],
      "execution_count": 18,
      "outputs": []
    },
    {
      "cell_type": "code",
      "metadata": {
        "id": "Y5euB73rJcw1",
        "colab_type": "code",
        "colab": {
          "base_uri": "https://localhost:8080/",
          "height": 68
        },
        "outputId": "8427efbd-4775-4f4a-8a89-97fcc41e9bad"
      },
      "source": [
        "m1 = torch.Tensor([[1,2,1],[0,1,0],[2,3,4]]); m1"
      ],
      "execution_count": 20,
      "outputs": [
        {
          "output_type": "execute_result",
          "data": {
            "text/plain": [
              "tensor([[1., 2., 1.],\n",
              "        [0., 1., 0.],\n",
              "        [2., 3., 4.]])"
            ]
          },
          "metadata": {
            "tags": []
          },
          "execution_count": 20
        }
      ]
    },
    {
      "cell_type": "code",
      "metadata": {
        "id": "yI9PavM5J-Dt",
        "colab_type": "code",
        "colab": {
          "base_uri": "https://localhost:8080/",
          "height": 68
        },
        "outputId": "b435d85d-8849-4c80-ad24-c0a45ea2d697"
      },
      "source": [
        "m2 = torch.Tensor([[2,5],[6,7],[1,8]]); m2"
      ],
      "execution_count": 25,
      "outputs": [
        {
          "output_type": "execute_result",
          "data": {
            "text/plain": [
              "tensor([[2., 5.],\n",
              "        [6., 7.],\n",
              "        [1., 8.]])"
            ]
          },
          "metadata": {
            "tags": []
          },
          "execution_count": 25
        }
      ]
    },
    {
      "cell_type": "code",
      "metadata": {
        "id": "yN64_nyBKFuT",
        "colab_type": "code",
        "colab": {
          "base_uri": "https://localhost:8080/",
          "height": 68
        },
        "outputId": "3d3a7a25-b438-4467-b5ac-40e8be77f475"
      },
      "source": [
        "matmul(m1,m2)"
      ],
      "execution_count": 26,
      "outputs": [
        {
          "output_type": "execute_result",
          "data": {
            "text/plain": [
              "tensor([[15., 27.],\n",
              "        [ 6.,  7.],\n",
              "        [26., 63.]])"
            ]
          },
          "metadata": {
            "tags": []
          },
          "execution_count": 26
        }
      ]
    },
    {
      "cell_type": "code",
      "metadata": {
        "id": "7gip2uPtZBBe",
        "colab_type": "code",
        "colab": {}
      },
      "source": [
        "m1 = x_valid[:5]\n",
        "m2 = weights"
      ],
      "execution_count": 27,
      "outputs": []
    },
    {
      "cell_type": "code",
      "metadata": {
        "id": "tfFd93RrZBBg",
        "colab_type": "code",
        "colab": {
          "base_uri": "https://localhost:8080/",
          "height": 34
        },
        "outputId": "75d384df-d3a9-463d-cc47-73b2abca14f3"
      },
      "source": [
        "m1.shape,m2.shape"
      ],
      "execution_count": 28,
      "outputs": [
        {
          "output_type": "execute_result",
          "data": {
            "text/plain": [
              "(torch.Size([5, 784]), torch.Size([784, 10]))"
            ]
          },
          "metadata": {
            "tags": []
          },
          "execution_count": 28
        }
      ]
    },
    {
      "cell_type": "code",
      "metadata": {
        "id": "gZIvj2ESZBBi",
        "colab_type": "code",
        "colab": {
          "base_uri": "https://localhost:8080/",
          "height": 51
        },
        "outputId": "badd3050-e161-48c2-862a-9fe889daa009"
      },
      "source": [
        "%time t1=matmul(m1, m2)"
      ],
      "execution_count": 29,
      "outputs": [
        {
          "output_type": "stream",
          "text": [
            "CPU times: user 758 ms, sys: 0 ns, total: 758 ms\n",
            "Wall time: 767 ms\n"
          ],
          "name": "stdout"
        }
      ]
    },
    {
      "cell_type": "code",
      "metadata": {
        "id": "Gx2VWnprZBBk",
        "colab_type": "code",
        "colab": {
          "base_uri": "https://localhost:8080/",
          "height": 34
        },
        "outputId": "bd4a44ed-ca82-4a74-a5e3-b6ae7e06823e"
      },
      "source": [
        "t1.shape"
      ],
      "execution_count": 30,
      "outputs": [
        {
          "output_type": "execute_result",
          "data": {
            "text/plain": [
              "torch.Size([5, 10])"
            ]
          },
          "metadata": {
            "tags": []
          },
          "execution_count": 30
        }
      ]
    },
    {
      "cell_type": "markdown",
      "metadata": {
        "id": "cxhxiEV8ZBBm",
        "colab_type": "text"
      },
      "source": [
        "This is kinda slow - what if we could speed it up by 50,000 times? Let's try!"
      ]
    },
    {
      "cell_type": "code",
      "metadata": {
        "id": "SPEcrCsNZBBn",
        "colab_type": "code",
        "colab": {
          "base_uri": "https://localhost:8080/",
          "height": 34
        },
        "outputId": "7f1c90fe-c17a-444e-fca2-c20e99ce1b8f"
      },
      "source": [
        "len(x_train)"
      ],
      "execution_count": 31,
      "outputs": [
        {
          "output_type": "execute_result",
          "data": {
            "text/plain": [
              "50000"
            ]
          },
          "metadata": {
            "tags": []
          },
          "execution_count": 31
        }
      ]
    },
    {
      "cell_type": "markdown",
      "metadata": {
        "id": "f2OxeqICZBBo",
        "colab_type": "text"
      },
      "source": [
        "#### Elementwise ops"
      ]
    },
    {
      "cell_type": "markdown",
      "metadata": {
        "id": "oM8df72xZBBp",
        "colab_type": "text"
      },
      "source": [
        "Operators (+,-,\\*,/,>,<,==) are usually element-wise.\n",
        "\n",
        "Examples of element-wise operations:"
      ]
    },
    {
      "cell_type": "markdown",
      "metadata": {
        "id": "ChGPuZ8GZBBq",
        "colab_type": "text"
      },
      "source": [
        " [Jump_to lesson 8 video](https://course.fast.ai/videos/?lesson=8&t=2682)"
      ]
    },
    {
      "cell_type": "code",
      "metadata": {
        "id": "IQ237mu2ZBBq",
        "colab_type": "code",
        "colab": {
          "base_uri": "https://localhost:8080/",
          "height": 34
        },
        "outputId": "586da418-2f0c-4b58-af5f-a2c532767e59"
      },
      "source": [
        "a = tensor([10., 6, -4])\n",
        "b = tensor([2., 8, 7])\n",
        "a,b"
      ],
      "execution_count": 41,
      "outputs": [
        {
          "output_type": "execute_result",
          "data": {
            "text/plain": [
              "(tensor([10.,  6., -4.]), tensor([2., 8., 7.]))"
            ]
          },
          "metadata": {
            "tags": []
          },
          "execution_count": 41
        }
      ]
    },
    {
      "cell_type": "code",
      "metadata": {
        "id": "sjPQLg8RZBBt",
        "colab_type": "code",
        "colab": {
          "base_uri": "https://localhost:8080/",
          "height": 34
        },
        "outputId": "ed8df3c4-fb33-4e6f-c7b6-aba738c06bfc"
      },
      "source": [
        "a + b"
      ],
      "execution_count": 42,
      "outputs": [
        {
          "output_type": "execute_result",
          "data": {
            "text/plain": [
              "tensor([12., 14.,  3.])"
            ]
          },
          "metadata": {
            "tags": []
          },
          "execution_count": 42
        }
      ]
    },
    {
      "cell_type": "code",
      "metadata": {
        "id": "ELL8FUuhZBBv",
        "colab_type": "code",
        "colab": {
          "base_uri": "https://localhost:8080/",
          "height": 34
        },
        "outputId": "18526081-2523-43d6-b8c3-a41a21a2dcad"
      },
      "source": [
        "(a < b).float().mean()"
      ],
      "execution_count": 43,
      "outputs": [
        {
          "output_type": "execute_result",
          "data": {
            "text/plain": [
              "tensor(0.6667)"
            ]
          },
          "metadata": {
            "tags": []
          },
          "execution_count": 43
        }
      ]
    },
    {
      "cell_type": "code",
      "metadata": {
        "id": "hVFmUTNhZBBy",
        "colab_type": "code",
        "colab": {
          "base_uri": "https://localhost:8080/",
          "height": 68
        },
        "outputId": "d6f46caa-ced4-49b5-e1c5-2966362c6560"
      },
      "source": [
        "m = tensor([[1., 2, 3], [4,5,6], [7,8,9]]); m"
      ],
      "execution_count": 44,
      "outputs": [
        {
          "output_type": "execute_result",
          "data": {
            "text/plain": [
              "tensor([[1., 2., 3.],\n",
              "        [4., 5., 6.],\n",
              "        [7., 8., 9.]])"
            ]
          },
          "metadata": {
            "tags": []
          },
          "execution_count": 44
        }
      ]
    },
    {
      "cell_type": "markdown",
      "metadata": {
        "id": "ZXgaKvdaZBBz",
        "colab_type": "text"
      },
      "source": [
        "Frobenius norm:\n",
        "\n",
        "$$\\| A \\|_F = \\left( \\sum_{i,j=1}^n | a_{ij} |^2 \\right)^{1/2}$$\n",
        "\n",
        "*Hint*: you don't normally need to write equations in LaTeX yourself, instead, you can click 'edit' in Wikipedia and copy the LaTeX from there (which is what I did for the above equation). Or on arxiv.org, click \"Download: Other formats\" in the top right, then \"Download source\"; rename the downloaded file to end in `.tgz` if it doesn't already, and you should find the source there, including the equations to copy and paste."
      ]
    },
    {
      "cell_type": "code",
      "metadata": {
        "id": "znRrOU2gZBB0",
        "colab_type": "code",
        "colab": {
          "base_uri": "https://localhost:8080/",
          "height": 34
        },
        "outputId": "46de509a-cb1d-49fc-b8c7-bffa2067dc6b"
      },
      "source": [
        "(m*m).sum().sqrt()"
      ],
      "execution_count": 45,
      "outputs": [
        {
          "output_type": "execute_result",
          "data": {
            "text/plain": [
              "tensor(16.8819)"
            ]
          },
          "metadata": {
            "tags": []
          },
          "execution_count": 45
        }
      ]
    },
    {
      "cell_type": "markdown",
      "metadata": {
        "id": "pKi8RbErZBB2",
        "colab_type": "text"
      },
      "source": [
        "#### Elementwise matmul"
      ]
    },
    {
      "cell_type": "code",
      "metadata": {
        "id": "S2-J8W25ZBB2",
        "colab_type": "code",
        "colab": {}
      },
      "source": [
        "def matmul(a,b):\n",
        "    ar,ac = a.shape\n",
        "    br,bc = b.shape\n",
        "    assert ac==br\n",
        "    c = torch.zeros(ar, bc)\n",
        "    for i in range(ar):\n",
        "        for j in range(bc):\n",
        "            # Any trailing \",:\" can be removed\n",
        "            c[i,j] = (a[i,:] * b[:,j]).sum()\n",
        "    return c"
      ],
      "execution_count": 32,
      "outputs": []
    },
    {
      "cell_type": "code",
      "metadata": {
        "id": "iLRa6BwOZBB4",
        "colab_type": "code",
        "colab": {
          "base_uri": "https://localhost:8080/",
          "height": 34
        },
        "outputId": "d02b47c6-4d9c-46dd-8e0a-a0c8ea432326"
      },
      "source": [
        "%timeit -n 10 _=matmul(m1, m2)"
      ],
      "execution_count": 35,
      "outputs": [
        {
          "output_type": "stream",
          "text": [
            "10 loops, best of 3: 1.24 ms per loop\n"
          ],
          "name": "stdout"
        }
      ]
    },
    {
      "cell_type": "code",
      "metadata": {
        "id": "WKpW3HouZBB7",
        "colab_type": "code",
        "colab": {
          "base_uri": "https://localhost:8080/",
          "height": 34
        },
        "outputId": "dcd1942d-b8aa-4615-ac2f-990d9bc8d660"
      },
      "source": [
        "890.1/5"
      ],
      "execution_count": 36,
      "outputs": [
        {
          "output_type": "execute_result",
          "data": {
            "text/plain": [
              "178.02"
            ]
          },
          "metadata": {
            "tags": []
          },
          "execution_count": 36
        }
      ]
    },
    {
      "cell_type": "code",
      "metadata": {
        "id": "8bKca52UZBB9",
        "colab_type": "code",
        "colab": {}
      },
      "source": [
        "#export\n",
        "def near(a,b): return torch.allclose(a, b, rtol=1e-3, atol=1e-5)\n",
        "def test_near(a,b): test(a,b,near)"
      ],
      "execution_count": 37,
      "outputs": []
    },
    {
      "cell_type": "code",
      "metadata": {
        "id": "XoadvmvFZBB-",
        "colab_type": "code",
        "colab": {}
      },
      "source": [
        "test_near(t1,matmul(m1, m2))"
      ],
      "execution_count": 39,
      "outputs": []
    },
    {
      "cell_type": "markdown",
      "metadata": {
        "id": "W7Xk4JvKZBCA",
        "colab_type": "text"
      },
      "source": [
        "### Broadcasting"
      ]
    },
    {
      "cell_type": "markdown",
      "metadata": {
        "id": "EGk_eCbdZBCA",
        "colab_type": "text"
      },
      "source": [
        "The term **broadcasting** describes how arrays with different shapes are treated during arithmetic operations.  The term broadcasting was first used by Numpy.\n",
        "\n",
        "From the [Numpy Documentation](https://docs.scipy.org/doc/numpy-1.10.0/user/basics.broadcasting.html):\n",
        "\n",
        "    The term broadcasting describes how numpy treats arrays with \n",
        "    different shapes during arithmetic operations. Subject to certain \n",
        "    constraints, the smaller array is “broadcast” across the larger \n",
        "    array so that they have compatible shapes. Broadcasting provides a \n",
        "    means of vectorizing array operations so that looping occurs in C\n",
        "    instead of Python. It does this without making needless copies of \n",
        "    data and usually leads to efficient algorithm implementations.\n",
        "    \n",
        "In addition to the efficiency of broadcasting, it allows developers to write less code, which typically leads to fewer errors.\n",
        "\n",
        "*This section was adapted from [Chapter 4](http://nbviewer.jupyter.org/github/fastai/numerical-linear-algebra/blob/master/nbs/4.%20Compressed%20Sensing%20of%20CT%20Scans%20with%20Robust%20Regression.ipynb#4.-Compressed-Sensing-of-CT-Scans-with-Robust-Regression) of the fast.ai [Computational Linear Algebra](https://github.com/fastai/numerical-linear-algebra) course.*"
      ]
    },
    {
      "cell_type": "markdown",
      "metadata": {
        "id": "Ib7gyp46ZBCB",
        "colab_type": "text"
      },
      "source": [
        "[Jump_to lesson 8 video](https://course.fast.ai/videos/?lesson=8&t=3110)"
      ]
    },
    {
      "cell_type": "markdown",
      "metadata": {
        "id": "98wyR2ByZBCB",
        "colab_type": "text"
      },
      "source": [
        "#### Broadcasting with a scalar"
      ]
    },
    {
      "cell_type": "code",
      "metadata": {
        "id": "WLeQ7HEoZBCB",
        "colab_type": "code",
        "colab": {
          "base_uri": "https://localhost:8080/",
          "height": 34
        },
        "outputId": "0894835c-8d73-48aa-890b-ce288afddee3"
      },
      "source": [
        "a"
      ],
      "execution_count": 46,
      "outputs": [
        {
          "output_type": "execute_result",
          "data": {
            "text/plain": [
              "tensor([10.,  6., -4.])"
            ]
          },
          "metadata": {
            "tags": []
          },
          "execution_count": 46
        }
      ]
    },
    {
      "cell_type": "code",
      "metadata": {
        "id": "lljzS3ixZBCD",
        "colab_type": "code",
        "colab": {
          "base_uri": "https://localhost:8080/",
          "height": 34
        },
        "outputId": "1e488bbd-cd66-4dec-ce9b-815c2904f23e"
      },
      "source": [
        "a > 0"
      ],
      "execution_count": 47,
      "outputs": [
        {
          "output_type": "execute_result",
          "data": {
            "text/plain": [
              "tensor([ True,  True, False])"
            ]
          },
          "metadata": {
            "tags": []
          },
          "execution_count": 47
        }
      ]
    },
    {
      "cell_type": "markdown",
      "metadata": {
        "id": "r6umMNkbZBCF",
        "colab_type": "text"
      },
      "source": [
        "How are we able to do a > 0?  0 is being **broadcast** to have the same dimensions as a.\n",
        "\n",
        "For instance you can normalize our dataset by subtracting the mean (a scalar) from the entire data set (a matrix) and dividing by the standard deviation (another scalar), using broadcasting.\n",
        "\n",
        "Other examples of broadcasting with a scalar:"
      ]
    },
    {
      "cell_type": "code",
      "metadata": {
        "id": "MMNyFKj6ZBCG",
        "colab_type": "code",
        "colab": {
          "base_uri": "https://localhost:8080/",
          "height": 34
        },
        "outputId": "f9736420-b283-4311-f856-7c95317711bc"
      },
      "source": [
        "a + 1"
      ],
      "execution_count": 48,
      "outputs": [
        {
          "output_type": "execute_result",
          "data": {
            "text/plain": [
              "tensor([11.,  7., -3.])"
            ]
          },
          "metadata": {
            "tags": []
          },
          "execution_count": 48
        }
      ]
    },
    {
      "cell_type": "code",
      "metadata": {
        "id": "nc3gfgaCZBCI",
        "colab_type": "code",
        "colab": {
          "base_uri": "https://localhost:8080/",
          "height": 68
        },
        "outputId": "881fef94-0da8-4ec8-a85e-a308ac9b9fe4"
      },
      "source": [
        "m"
      ],
      "execution_count": 49,
      "outputs": [
        {
          "output_type": "execute_result",
          "data": {
            "text/plain": [
              "tensor([[1., 2., 3.],\n",
              "        [4., 5., 6.],\n",
              "        [7., 8., 9.]])"
            ]
          },
          "metadata": {
            "tags": []
          },
          "execution_count": 49
        }
      ]
    },
    {
      "cell_type": "code",
      "metadata": {
        "id": "ziQ-JLEgZBCJ",
        "colab_type": "code",
        "colab": {
          "base_uri": "https://localhost:8080/",
          "height": 68
        },
        "outputId": "411595f8-0f98-4644-ff9d-96fbd75419f8"
      },
      "source": [
        "2*m"
      ],
      "execution_count": 50,
      "outputs": [
        {
          "output_type": "execute_result",
          "data": {
            "text/plain": [
              "tensor([[ 2.,  4.,  6.],\n",
              "        [ 8., 10., 12.],\n",
              "        [14., 16., 18.]])"
            ]
          },
          "metadata": {
            "tags": []
          },
          "execution_count": 50
        }
      ]
    },
    {
      "cell_type": "markdown",
      "metadata": {
        "id": "SYuwytFrZBCM",
        "colab_type": "text"
      },
      "source": [
        "#### Broadcasting a vector to a matrix"
      ]
    },
    {
      "cell_type": "markdown",
      "metadata": {
        "id": "ojBg-9E0ZBCM",
        "colab_type": "text"
      },
      "source": [
        "We can also broadcast a vector to a matrix:"
      ]
    },
    {
      "cell_type": "code",
      "metadata": {
        "id": "L8Hdboy2ZBCN",
        "colab_type": "code",
        "colab": {},
        "outputId": "40535e94-82a1-40e3-8225-e1059e5cda2f"
      },
      "source": [
        "c = tensor([10.,20,30]); c"
      ],
      "execution_count": null,
      "outputs": [
        {
          "output_type": "execute_result",
          "data": {
            "text/plain": [
              "tensor([10., 20., 30.])"
            ]
          },
          "metadata": {
            "tags": []
          },
          "execution_count": 0
        }
      ]
    },
    {
      "cell_type": "code",
      "metadata": {
        "id": "99fSXGYxZBCP",
        "colab_type": "code",
        "colab": {},
        "outputId": "fd02b318-71b7-4af8-b937-93d7eaafa20e"
      },
      "source": [
        "m"
      ],
      "execution_count": null,
      "outputs": [
        {
          "output_type": "execute_result",
          "data": {
            "text/plain": [
              "tensor([[1., 2., 3.],\n",
              "        [4., 5., 6.],\n",
              "        [7., 8., 9.]])"
            ]
          },
          "metadata": {
            "tags": []
          },
          "execution_count": 0
        }
      ]
    },
    {
      "cell_type": "code",
      "metadata": {
        "id": "oE-KwW0lZBCR",
        "colab_type": "code",
        "colab": {},
        "outputId": "6e02d5d3-a2e5-4e88-feb0-4877b45e5178"
      },
      "source": [
        "m.shape,c.shape"
      ],
      "execution_count": null,
      "outputs": [
        {
          "output_type": "execute_result",
          "data": {
            "text/plain": [
              "(torch.Size([3, 3]), torch.Size([3]))"
            ]
          },
          "metadata": {
            "tags": []
          },
          "execution_count": 0
        }
      ]
    },
    {
      "cell_type": "code",
      "metadata": {
        "id": "gXNuoEftZBCT",
        "colab_type": "code",
        "colab": {},
        "outputId": "a8e5d85f-8c20-4401-c795-c37063b3224a"
      },
      "source": [
        "m + c"
      ],
      "execution_count": null,
      "outputs": [
        {
          "output_type": "execute_result",
          "data": {
            "text/plain": [
              "tensor([[11., 22., 33.],\n",
              "        [14., 25., 36.],\n",
              "        [17., 28., 39.]])"
            ]
          },
          "metadata": {
            "tags": []
          },
          "execution_count": 0
        }
      ]
    },
    {
      "cell_type": "code",
      "metadata": {
        "id": "UCUmMdVgZBCV",
        "colab_type": "code",
        "colab": {},
        "outputId": "120c7dee-6c15-4b65-acf3-0c5f40c04a84"
      },
      "source": [
        "c + m"
      ],
      "execution_count": null,
      "outputs": [
        {
          "output_type": "execute_result",
          "data": {
            "text/plain": [
              "tensor([[11., 22., 33.],\n",
              "        [14., 25., 36.],\n",
              "        [17., 28., 39.]])"
            ]
          },
          "metadata": {
            "tags": []
          },
          "execution_count": 0
        }
      ]
    },
    {
      "cell_type": "markdown",
      "metadata": {
        "id": "fJn3xl0wZBCY",
        "colab_type": "text"
      },
      "source": [
        "We don't really copy the rows, but it looks as if we did. In fact, the rows are given a *stride* of 0."
      ]
    },
    {
      "cell_type": "code",
      "metadata": {
        "id": "LUhMJYV3ZBCZ",
        "colab_type": "code",
        "colab": {}
      },
      "source": [
        "t = c.expand_as(m)"
      ],
      "execution_count": null,
      "outputs": []
    },
    {
      "cell_type": "code",
      "metadata": {
        "id": "uj-N1AozZBCa",
        "colab_type": "code",
        "colab": {},
        "outputId": "dadb3245-001f-4c22-f8d7-9e6f8759b20d"
      },
      "source": [
        "t"
      ],
      "execution_count": null,
      "outputs": [
        {
          "output_type": "execute_result",
          "data": {
            "text/plain": [
              "tensor([[10., 20., 30.],\n",
              "        [10., 20., 30.],\n",
              "        [10., 20., 30.]])"
            ]
          },
          "metadata": {
            "tags": []
          },
          "execution_count": 0
        }
      ]
    },
    {
      "cell_type": "code",
      "metadata": {
        "id": "5Pxgkdi8ZBCd",
        "colab_type": "code",
        "colab": {},
        "outputId": "4e2aea5c-d83c-46a3-8e92-d34fc7332a04"
      },
      "source": [
        "m + t"
      ],
      "execution_count": null,
      "outputs": [
        {
          "output_type": "execute_result",
          "data": {
            "text/plain": [
              "tensor([[11., 22., 33.],\n",
              "        [14., 25., 36.],\n",
              "        [17., 28., 39.]])"
            ]
          },
          "metadata": {
            "tags": []
          },
          "execution_count": 0
        }
      ]
    },
    {
      "cell_type": "code",
      "metadata": {
        "id": "aJnsXl8wZBCf",
        "colab_type": "code",
        "colab": {},
        "outputId": "80cec9d1-1d3e-4709-ffb4-e129f5597028"
      },
      "source": [
        "t.storage()"
      ],
      "execution_count": null,
      "outputs": [
        {
          "output_type": "execute_result",
          "data": {
            "text/plain": [
              " 10.0\n",
              " 20.0\n",
              " 30.0\n",
              "[torch.FloatStorage of size 3]"
            ]
          },
          "metadata": {
            "tags": []
          },
          "execution_count": 0
        }
      ]
    },
    {
      "cell_type": "code",
      "metadata": {
        "id": "B1LNPTAAZBCg",
        "colab_type": "code",
        "colab": {},
        "outputId": "08f9cb1b-eb3b-47f9-988b-d23ae59c2977"
      },
      "source": [
        "t.stride(), t.shape"
      ],
      "execution_count": null,
      "outputs": [
        {
          "output_type": "execute_result",
          "data": {
            "text/plain": [
              "((0, 1), torch.Size([3, 3]))"
            ]
          },
          "metadata": {
            "tags": []
          },
          "execution_count": 0
        }
      ]
    },
    {
      "cell_type": "markdown",
      "metadata": {
        "id": "iUN9zb1TZBCi",
        "colab_type": "text"
      },
      "source": [
        "You can index with the special value [None] or use `unsqueeze()` to convert a 1-dimensional array into a 2-dimensional array (although one of those dimensions has value 1)."
      ]
    },
    {
      "cell_type": "code",
      "metadata": {
        "id": "l7-0yPt5ZBCj",
        "colab_type": "code",
        "colab": {},
        "outputId": "acd64eff-808d-4c49-ca59-1692191003d4"
      },
      "source": [
        "c.unsqueeze(0)"
      ],
      "execution_count": null,
      "outputs": [
        {
          "output_type": "execute_result",
          "data": {
            "text/plain": [
              "tensor([[10., 20., 30.]])"
            ]
          },
          "metadata": {
            "tags": []
          },
          "execution_count": 0
        }
      ]
    },
    {
      "cell_type": "code",
      "metadata": {
        "id": "lHe1O3rVZBCl",
        "colab_type": "code",
        "colab": {},
        "outputId": "35cdd958-23ac-43af-9652-f05393773018"
      },
      "source": [
        "c.unsqueeze(1)"
      ],
      "execution_count": null,
      "outputs": [
        {
          "output_type": "execute_result",
          "data": {
            "text/plain": [
              "tensor([[10.],\n",
              "        [20.],\n",
              "        [30.]])"
            ]
          },
          "metadata": {
            "tags": []
          },
          "execution_count": 0
        }
      ]
    },
    {
      "cell_type": "code",
      "metadata": {
        "id": "CiesAvTfZBCn",
        "colab_type": "code",
        "colab": {},
        "outputId": "30ef4bee-fe54-4c18-8a06-f2297f544ff9"
      },
      "source": [
        "m"
      ],
      "execution_count": null,
      "outputs": [
        {
          "output_type": "execute_result",
          "data": {
            "text/plain": [
              "tensor([[1., 2., 3.],\n",
              "        [4., 5., 6.],\n",
              "        [7., 8., 9.]])"
            ]
          },
          "metadata": {
            "tags": []
          },
          "execution_count": 0
        }
      ]
    },
    {
      "cell_type": "code",
      "metadata": {
        "id": "jje21dCAZBCo",
        "colab_type": "code",
        "colab": {},
        "outputId": "c5c84b30-26e9-461a-e434-4b99c24d7382"
      },
      "source": [
        "c.shape, c.unsqueeze(0).shape,c.unsqueeze(1).shape"
      ],
      "execution_count": null,
      "outputs": [
        {
          "output_type": "execute_result",
          "data": {
            "text/plain": [
              "(torch.Size([3]), torch.Size([1, 3]), torch.Size([3, 1]))"
            ]
          },
          "metadata": {
            "tags": []
          },
          "execution_count": 0
        }
      ]
    },
    {
      "cell_type": "code",
      "metadata": {
        "id": "emGO4lEIZBCr",
        "colab_type": "code",
        "colab": {},
        "outputId": "e5cfdf78-a7fd-432a-8596-73a662c5c1b6"
      },
      "source": [
        "c.shape, c[None].shape,c[:,None].shape"
      ],
      "execution_count": null,
      "outputs": [
        {
          "output_type": "execute_result",
          "data": {
            "text/plain": [
              "(torch.Size([3]), torch.Size([1, 3]), torch.Size([3, 1]))"
            ]
          },
          "metadata": {
            "tags": []
          },
          "execution_count": 0
        }
      ]
    },
    {
      "cell_type": "markdown",
      "metadata": {
        "id": "rhk3mtgFZBCt",
        "colab_type": "text"
      },
      "source": [
        "You can always skip trailling ':'s. And '...' means '*all preceding dimensions*'"
      ]
    },
    {
      "cell_type": "code",
      "metadata": {
        "id": "p6xKkkuOZBCt",
        "colab_type": "code",
        "colab": {},
        "outputId": "1f5bb2eb-1247-4e33-d0b3-60583dd1ca39"
      },
      "source": [
        "c[None].shape,c[...,None].shape"
      ],
      "execution_count": null,
      "outputs": [
        {
          "output_type": "execute_result",
          "data": {
            "text/plain": [
              "(torch.Size([1, 3]), torch.Size([3, 1]))"
            ]
          },
          "metadata": {
            "tags": []
          },
          "execution_count": 0
        }
      ]
    },
    {
      "cell_type": "code",
      "metadata": {
        "id": "k_wBOTxkZBCw",
        "colab_type": "code",
        "colab": {},
        "outputId": "932106ae-5efd-4315-8223-491abf265d88"
      },
      "source": [
        "c[:,None].expand_as(m)"
      ],
      "execution_count": null,
      "outputs": [
        {
          "output_type": "execute_result",
          "data": {
            "text/plain": [
              "tensor([[10., 10., 10.],\n",
              "        [20., 20., 20.],\n",
              "        [30., 30., 30.]])"
            ]
          },
          "metadata": {
            "tags": []
          },
          "execution_count": 0
        }
      ]
    },
    {
      "cell_type": "code",
      "metadata": {
        "id": "A7MtbHY_ZBCy",
        "colab_type": "code",
        "colab": {},
        "outputId": "d02a2a84-5445-47b7-8683-c12e89bfcab8"
      },
      "source": [
        "m + c[:,None]"
      ],
      "execution_count": null,
      "outputs": [
        {
          "output_type": "execute_result",
          "data": {
            "text/plain": [
              "tensor([[11., 12., 13.],\n",
              "        [24., 25., 26.],\n",
              "        [37., 38., 39.]])"
            ]
          },
          "metadata": {
            "tags": []
          },
          "execution_count": 0
        }
      ]
    },
    {
      "cell_type": "code",
      "metadata": {
        "id": "Ar4q3jJnZBC0",
        "colab_type": "code",
        "colab": {},
        "outputId": "c17008ae-11db-40ac-b347-a3f86b9bc3fd"
      },
      "source": [
        "c[:,None]"
      ],
      "execution_count": null,
      "outputs": [
        {
          "output_type": "execute_result",
          "data": {
            "text/plain": [
              "tensor([[10.],\n",
              "        [20.],\n",
              "        [30.]])"
            ]
          },
          "metadata": {
            "tags": []
          },
          "execution_count": 0
        }
      ]
    },
    {
      "cell_type": "markdown",
      "metadata": {
        "id": "FEqNk__hZBC2",
        "colab_type": "text"
      },
      "source": [
        "#### Matmul with broadcasting"
      ]
    },
    {
      "cell_type": "code",
      "metadata": {
        "id": "42p2iiH8ZBC2",
        "colab_type": "code",
        "colab": {}
      },
      "source": [
        "def matmul(a,b):\n",
        "    ar,ac = a.shape\n",
        "    br,bc = b.shape\n",
        "    assert ac==br\n",
        "    c = torch.zeros(ar, bc)\n",
        "    for i in range(ar):\n",
        "#       c[i,j] = (a[i,:]          * b[:,j]).sum() # previous\n",
        "        c[i]   = (a[i  ].unsqueeze(-1) * b).sum(dim=0)\n",
        "    return c"
      ],
      "execution_count": null,
      "outputs": []
    },
    {
      "cell_type": "code",
      "metadata": {
        "id": "2e1g0rQ5ZBC3",
        "colab_type": "code",
        "colab": {},
        "outputId": "63c2e012-e8c7-4f21-9242-29f2279b3880"
      },
      "source": [
        "%timeit -n 10 _=matmul(m1, m2)"
      ],
      "execution_count": null,
      "outputs": [
        {
          "output_type": "stream",
          "text": [
            "254 µs ± 11.9 µs per loop (mean ± std. dev. of 7 runs, 10 loops each)\n"
          ],
          "name": "stdout"
        }
      ]
    },
    {
      "cell_type": "code",
      "metadata": {
        "id": "4c9QkLb5ZBC5",
        "colab_type": "code",
        "colab": {},
        "outputId": "eb6a7daf-6dbc-4771-db55-7c0773241536"
      },
      "source": [
        "885000/277"
      ],
      "execution_count": null,
      "outputs": [
        {
          "output_type": "execute_result",
          "data": {
            "text/plain": [
              "3194.945848375451"
            ]
          },
          "metadata": {
            "tags": []
          },
          "execution_count": 0
        }
      ]
    },
    {
      "cell_type": "code",
      "metadata": {
        "id": "swBrtKb5ZBC7",
        "colab_type": "code",
        "colab": {}
      },
      "source": [
        "test_near(t1, matmul(m1, m2))"
      ],
      "execution_count": null,
      "outputs": []
    },
    {
      "cell_type": "markdown",
      "metadata": {
        "id": "ZXhryt2VZBC_",
        "colab_type": "text"
      },
      "source": [
        "#### Broadcasting Rules"
      ]
    },
    {
      "cell_type": "code",
      "metadata": {
        "id": "X4ejX5WtZBC_",
        "colab_type": "code",
        "colab": {},
        "outputId": "95650ac2-5476-4efb-8b10-3c6f93ee60df"
      },
      "source": [
        "c[None,:]"
      ],
      "execution_count": null,
      "outputs": [
        {
          "output_type": "execute_result",
          "data": {
            "text/plain": [
              "tensor([[10., 20., 30.]])"
            ]
          },
          "metadata": {
            "tags": []
          },
          "execution_count": 0
        }
      ]
    },
    {
      "cell_type": "code",
      "metadata": {
        "id": "67CYc5VGZBDB",
        "colab_type": "code",
        "colab": {},
        "outputId": "9d70c8e4-aff0-4516-f1eb-a47238a47ffa"
      },
      "source": [
        "c[None,:].shape"
      ],
      "execution_count": null,
      "outputs": [
        {
          "output_type": "execute_result",
          "data": {
            "text/plain": [
              "torch.Size([1, 3])"
            ]
          },
          "metadata": {
            "tags": []
          },
          "execution_count": 0
        }
      ]
    },
    {
      "cell_type": "code",
      "metadata": {
        "id": "LlufYBC8ZBDC",
        "colab_type": "code",
        "colab": {},
        "outputId": "8fe399c3-34e5-45f9-d0f0-037d25cf9677"
      },
      "source": [
        "c[:,None]"
      ],
      "execution_count": null,
      "outputs": [
        {
          "output_type": "execute_result",
          "data": {
            "text/plain": [
              "tensor([[10.],\n",
              "        [20.],\n",
              "        [30.]])"
            ]
          },
          "metadata": {
            "tags": []
          },
          "execution_count": 0
        }
      ]
    },
    {
      "cell_type": "code",
      "metadata": {
        "id": "1YQpmNQyZBDD",
        "colab_type": "code",
        "colab": {},
        "outputId": "209f92ad-614f-438e-94fa-d7413fe1b19f"
      },
      "source": [
        "c[:,None].shape"
      ],
      "execution_count": null,
      "outputs": [
        {
          "output_type": "execute_result",
          "data": {
            "text/plain": [
              "torch.Size([3, 1])"
            ]
          },
          "metadata": {
            "tags": []
          },
          "execution_count": 0
        }
      ]
    },
    {
      "cell_type": "code",
      "metadata": {
        "id": "L5h76DCzZBDE",
        "colab_type": "code",
        "colab": {},
        "outputId": "a0e50aad-c4e2-4edb-f7e7-4ed93c5ef4d8"
      },
      "source": [
        "c[None,:] * c[:,None]"
      ],
      "execution_count": null,
      "outputs": [
        {
          "output_type": "execute_result",
          "data": {
            "text/plain": [
              "tensor([[100., 200., 300.],\n",
              "        [200., 400., 600.],\n",
              "        [300., 600., 900.]])"
            ]
          },
          "metadata": {
            "tags": []
          },
          "execution_count": 0
        }
      ]
    },
    {
      "cell_type": "code",
      "metadata": {
        "id": "iUSoOV1EZBDG",
        "colab_type": "code",
        "colab": {},
        "outputId": "f4ac9288-e481-4df3-c9ad-200024c3437d"
      },
      "source": [
        "c[None] > c[:,None]"
      ],
      "execution_count": null,
      "outputs": [
        {
          "output_type": "execute_result",
          "data": {
            "text/plain": [
              "tensor([[0, 1, 1],\n",
              "        [0, 0, 1],\n",
              "        [0, 0, 0]], dtype=torch.uint8)"
            ]
          },
          "metadata": {
            "tags": []
          },
          "execution_count": 0
        }
      ]
    },
    {
      "cell_type": "markdown",
      "metadata": {
        "id": "1-jtUAJdZBDH",
        "colab_type": "text"
      },
      "source": [
        "When operating on two arrays/tensors, Numpy/PyTorch compares their shapes element-wise. It starts with the **trailing dimensions**, and works its way forward. Two dimensions are **compatible** when\n",
        "\n",
        "- they are equal, or\n",
        "- one of them is 1, in which case that dimension is broadcasted to make it the same size\n",
        "\n",
        "Arrays do not need to have the same number of dimensions. For example, if you have a `256*256*3` array of RGB values, and you want to scale each color in the image by a different value, you can multiply the image by a one-dimensional array with 3 values. Lining up the sizes of the trailing axes of these arrays according to the broadcast rules, shows that they are compatible:\n",
        "\n",
        "    Image  (3d array): 256 x 256 x 3\n",
        "    Scale  (1d array):             3\n",
        "    Result (3d array): 256 x 256 x 3\n",
        "\n",
        "The [numpy documentation](https://docs.scipy.org/doc/numpy-1.13.0/user/basics.broadcasting.html#general-broadcasting-rules) includes several examples of what dimensions can and can not be broadcast together."
      ]
    },
    {
      "cell_type": "markdown",
      "metadata": {
        "id": "KPc0tgljZBDJ",
        "colab_type": "text"
      },
      "source": [
        "### Einstein summation"
      ]
    },
    {
      "cell_type": "markdown",
      "metadata": {
        "id": "y_lrQ4A1ZBDJ",
        "colab_type": "text"
      },
      "source": [
        "Einstein summation (`einsum`) is a compact representation for combining products and sums in a general way. From the numpy docs:\n",
        "\n",
        "\"The subscripts string is a comma-separated list of subscript labels, where each label refers to a dimension of the corresponding operand. Whenever a label is repeated it is summed, so `np.einsum('i,i', a, b)` is equivalent to `np.inner(a,b)`. If a label appears only once, it is not summed, so `np.einsum('i', a)` produces a view of a with no changes.\""
      ]
    },
    {
      "cell_type": "markdown",
      "metadata": {
        "id": "2NEIsPY1ZBDK",
        "colab_type": "text"
      },
      "source": [
        "[Jump_to lesson 8 video](https://course.fast.ai/videos/?lesson=8&t=4280)"
      ]
    },
    {
      "cell_type": "code",
      "metadata": {
        "id": "4gBy3jEFZBDK",
        "colab_type": "code",
        "colab": {}
      },
      "source": [
        "# c[i,j] += a[i,k] * b[k,j]\n",
        "# c[i,j] = (a[i,:] * b[:,j]).sum()\n",
        "def matmul(a,b): return torch.einsum('ik,kj->ij', a, b)"
      ],
      "execution_count": null,
      "outputs": []
    },
    {
      "cell_type": "code",
      "metadata": {
        "id": "saN0yv_AZBDL",
        "colab_type": "code",
        "colab": {},
        "outputId": "44acea30-fa78-4033-b3fe-a7d72cf3f95e"
      },
      "source": [
        "%timeit -n 10 _=matmul(m1, m2)"
      ],
      "execution_count": null,
      "outputs": [
        {
          "output_type": "stream",
          "text": [
            "57.2 µs ± 15.3 µs per loop (mean ± std. dev. of 7 runs, 10 loops each)\n"
          ],
          "name": "stdout"
        }
      ]
    },
    {
      "cell_type": "code",
      "metadata": {
        "id": "ex7NbrVjZBDM",
        "colab_type": "code",
        "colab": {},
        "outputId": "3cde7dad-a08c-497d-f620-4890c4a27e14"
      },
      "source": [
        "885000/55"
      ],
      "execution_count": null,
      "outputs": [
        {
          "output_type": "execute_result",
          "data": {
            "text/plain": [
              "16090.90909090909"
            ]
          },
          "metadata": {
            "tags": []
          },
          "execution_count": 0
        }
      ]
    },
    {
      "cell_type": "code",
      "metadata": {
        "id": "89cLl3gjZBDO",
        "colab_type": "code",
        "colab": {}
      },
      "source": [
        "test_near(t1, matmul(m1, m2))"
      ],
      "execution_count": null,
      "outputs": []
    },
    {
      "cell_type": "markdown",
      "metadata": {
        "id": "8eFdjAM_ZBDP",
        "colab_type": "text"
      },
      "source": [
        "### pytorch op"
      ]
    },
    {
      "cell_type": "markdown",
      "metadata": {
        "id": "u5pTUc46ZBDP",
        "colab_type": "text"
      },
      "source": [
        "We can use pytorch's function or operator directly for matrix multiplication."
      ]
    },
    {
      "cell_type": "markdown",
      "metadata": {
        "id": "oAiJvnI-ZBDP",
        "colab_type": "text"
      },
      "source": [
        "[Jump_to lesson 8 video](https://course.fast.ai/videos/?lesson=8&t=4702)"
      ]
    },
    {
      "cell_type": "code",
      "metadata": {
        "id": "Jl5PifKQZBDQ",
        "colab_type": "code",
        "colab": {
          "base_uri": "https://localhost:8080/",
          "height": 51
        },
        "outputId": "4af9f187-8dad-47bd-b8f2-bf1bc11ec40c"
      },
      "source": [
        "%timeit -n 10 t2 = m1.matmul(m2)"
      ],
      "execution_count": 51,
      "outputs": [
        {
          "output_type": "stream",
          "text": [
            "The slowest run took 389.18 times longer than the fastest. This could mean that an intermediate result is being cached.\n",
            "10 loops, best of 3: 9.84 µs per loop\n"
          ],
          "name": "stdout"
        }
      ]
    },
    {
      "cell_type": "code",
      "metadata": {
        "id": "utM-kkDaZBDR",
        "colab_type": "code",
        "colab": {
          "base_uri": "https://localhost:8080/",
          "height": 34
        },
        "outputId": "ad55f3a1-7737-427a-f1b2-7208557baa67"
      },
      "source": [
        "# time comparison vs pure python:\n",
        "885000/18"
      ],
      "execution_count": 52,
      "outputs": [
        {
          "output_type": "execute_result",
          "data": {
            "text/plain": [
              "49166.666666666664"
            ]
          },
          "metadata": {
            "tags": []
          },
          "execution_count": 52
        }
      ]
    },
    {
      "cell_type": "code",
      "metadata": {
        "id": "swqctxvvZBDS",
        "colab_type": "code",
        "colab": {}
      },
      "source": [
        "t2 = m1@m2"
      ],
      "execution_count": 53,
      "outputs": []
    },
    {
      "cell_type": "code",
      "metadata": {
        "id": "p11UOpUzZBDU",
        "colab_type": "code",
        "colab": {}
      },
      "source": [
        "test_near(t1, t2)"
      ],
      "execution_count": 54,
      "outputs": []
    },
    {
      "cell_type": "code",
      "metadata": {
        "id": "0BZLygPDZBDV",
        "colab_type": "code",
        "colab": {
          "base_uri": "https://localhost:8080/",
          "height": 34
        },
        "outputId": "acf5abc9-212e-431c-d235-b96fbcd2e487"
      },
      "source": [
        "m1.shape,m2.shape"
      ],
      "execution_count": 55,
      "outputs": [
        {
          "output_type": "execute_result",
          "data": {
            "text/plain": [
              "(torch.Size([5, 784]), torch.Size([784, 10]))"
            ]
          },
          "metadata": {
            "tags": []
          },
          "execution_count": 55
        }
      ]
    },
    {
      "cell_type": "markdown",
      "metadata": {
        "id": "288Ped4jZBDX",
        "colab_type": "text"
      },
      "source": [
        "## Export"
      ]
    },
    {
      "cell_type": "code",
      "metadata": {
        "id": "Ubx-YRu2ZBDX",
        "colab_type": "code",
        "colab": {
          "base_uri": "https://localhost:8080/",
          "height": 34
        },
        "outputId": "8180020c-d1a9-4fe4-ea14-5f0ea017abaa"
      },
      "source": [
        "!python notebook2script.py 01_matmul.ipynb"
      ],
      "execution_count": 67,
      "outputs": [
        {
          "output_type": "stream",
          "text": [
            "Converted 01_matmul.ipynb to exp/nb_01.py\n"
          ],
          "name": "stdout"
        }
      ]
    },
    {
      "cell_type": "code",
      "metadata": {
        "id": "mBpW9dSfZBDY",
        "colab_type": "code",
        "colab": {}
      },
      "source": [
        ""
      ],
      "execution_count": null,
      "outputs": []
    },
    {
      "cell_type": "code",
      "metadata": {
        "id": "COjJVJ6XZpDs",
        "colab_type": "code",
        "colab": {}
      },
      "source": [
        ""
      ],
      "execution_count": null,
      "outputs": []
    }
  ]
}